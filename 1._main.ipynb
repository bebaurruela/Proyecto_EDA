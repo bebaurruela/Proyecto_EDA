{
 "cells": [
  {
   "cell_type": "markdown",
   "metadata": {},
   "source": [
    "# 1. FILTRANDO Y ARREGLANDO DATAFRAMES"
   ]
  },
  {
   "cell_type": "markdown",
   "metadata": {},
   "source": [
    "El data set principal tengo que dividirlo en los siguientes data frames:\n",
    "- Valor (en millones de dólares)\n",
    "- Valor ajustado (teniendo en cuenta la inflación)\n",
    "- Unidades"
   ]
  },
  {
   "cell_type": "code",
   "execution_count": 1,
   "metadata": {},
   "outputs": [],
   "source": [
    "# importo las librerías necesarias:\n",
    "import pandas as pd\n",
    "import numpy as np\n",
    "import matplotlib.pyplot as plt\n",
    "import seaborn as sns"
   ]
  },
  {
   "cell_type": "code",
   "execution_count": 2,
   "metadata": {},
   "outputs": [
    {
     "name": "stdout",
     "output_type": "stream",
     "text": [
      "<class 'pandas.core.frame.DataFrame'>\n",
      "RangeIndex: 3008 entries, 0 to 3007\n",
      "Data columns (total 5 columns):\n",
      " #   Column             Non-Null Count  Dtype  \n",
      "---  ------             --------------  -----  \n",
      " 0   format             3008 non-null   object \n",
      " 1   metric             3008 non-null   object \n",
      " 2   year               3008 non-null   int64  \n",
      " 3   number_of_records  3008 non-null   int64  \n",
      " 4   value_actual       1351 non-null   float64\n",
      "dtypes: float64(1), int64(2), object(2)\n",
      "memory usage: 117.6+ KB\n"
     ]
    }
   ],
   "source": [
    "music_all = pd.read_csv('Music Sales/musicdata.csv')\n",
    "music_all.info()"
   ]
  },
  {
   "cell_type": "code",
   "execution_count": 3,
   "metadata": {
    "collapsed": true,
    "jupyter": {
     "outputs_hidden": true
    }
   },
   "outputs": [
    {
     "name": "stdout",
     "output_type": "stream",
     "text": [
      "<class 'pandas.core.frame.DataFrame'>\n",
      "Int64Index: 1351 entries, 10 to 3007\n",
      "Data columns (total 5 columns):\n",
      " #   Column             Non-Null Count  Dtype  \n",
      "---  ------             --------------  -----  \n",
      " 0   format             1351 non-null   object \n",
      " 1   metric             1351 non-null   object \n",
      " 2   year               1351 non-null   int64  \n",
      " 3   number_of_records  1351 non-null   int64  \n",
      " 4   value_actual       1351 non-null   float64\n",
      "dtypes: float64(1), int64(2), object(2)\n",
      "memory usage: 63.3+ KB\n"
     ]
    }
   ],
   "source": [
    "# elimino todos los Nan ya que son formatos que no existían en el año:\n",
    "\n",
    "music_all.dropna(inplace=True)\n",
    "music_all.info()"
   ]
  },
  {
   "cell_type": "code",
   "execution_count": 5,
   "metadata": {},
   "outputs": [
    {
     "data": {
      "text/html": [
       "<div>\n",
       "<style scoped>\n",
       "    .dataframe tbody tr th:only-of-type {\n",
       "        vertical-align: middle;\n",
       "    }\n",
       "\n",
       "    .dataframe tbody tr th {\n",
       "        vertical-align: top;\n",
       "    }\n",
       "\n",
       "    .dataframe thead th {\n",
       "        text-align: right;\n",
       "    }\n",
       "</style>\n",
       "<table border=\"1\" class=\"dataframe\">\n",
       "  <thead>\n",
       "    <tr style=\"text-align: right;\">\n",
       "      <th></th>\n",
       "      <th>format</th>\n",
       "      <th>metric</th>\n",
       "      <th>year</th>\n",
       "      <th>number_of_records</th>\n",
       "      <th>value_actual</th>\n",
       "    </tr>\n",
       "  </thead>\n",
       "  <tbody>\n",
       "    <tr>\n",
       "      <th>10</th>\n",
       "      <td>CD</td>\n",
       "      <td>Units</td>\n",
       "      <td>1983</td>\n",
       "      <td>1</td>\n",
       "      <td>0.8</td>\n",
       "    </tr>\n",
       "    <tr>\n",
       "      <th>11</th>\n",
       "      <td>CD</td>\n",
       "      <td>Units</td>\n",
       "      <td>1984</td>\n",
       "      <td>1</td>\n",
       "      <td>5.8</td>\n",
       "    </tr>\n",
       "    <tr>\n",
       "      <th>12</th>\n",
       "      <td>CD</td>\n",
       "      <td>Units</td>\n",
       "      <td>1985</td>\n",
       "      <td>1</td>\n",
       "      <td>22.6</td>\n",
       "    </tr>\n",
       "    <tr>\n",
       "      <th>13</th>\n",
       "      <td>CD</td>\n",
       "      <td>Units</td>\n",
       "      <td>1986</td>\n",
       "      <td>1</td>\n",
       "      <td>53.0</td>\n",
       "    </tr>\n",
       "    <tr>\n",
       "      <th>14</th>\n",
       "      <td>CD</td>\n",
       "      <td>Units</td>\n",
       "      <td>1987</td>\n",
       "      <td>1</td>\n",
       "      <td>102.1</td>\n",
       "    </tr>\n",
       "  </tbody>\n",
       "</table>\n",
       "</div>"
      ],
      "text/plain": [
       "   format metric  year  number_of_records  value_actual\n",
       "10     CD  Units  1983                  1           0.8\n",
       "11     CD  Units  1984                  1           5.8\n",
       "12     CD  Units  1985                  1          22.6\n",
       "13     CD  Units  1986                  1          53.0\n",
       "14     CD  Units  1987                  1         102.1"
      ]
     },
     "execution_count": 5,
     "metadata": {},
     "output_type": "execute_result"
    }
   ],
   "source": [
    "music_all.head()"
   ]
  },
  {
   "cell_type": "code",
   "execution_count": 4,
   "metadata": {},
   "outputs": [
    {
     "data": {
      "text/plain": [
       "array(['Units', 'Value', 'Value (Adjusted)'], dtype=object)"
      ]
     },
     "execution_count": 4,
     "metadata": {},
     "output_type": "execute_result"
    }
   ],
   "source": [
    "music_all['metric'].unique()"
   ]
  },
  {
   "cell_type": "markdown",
   "metadata": {},
   "source": [
    "Existe una columna llamada *metric* que contiene los parámetros:\n",
    "- Units\n",
    "- Value\n",
    "- Value (Adjusted)\n",
    "\n",
    "A partir de esta columna necesito crear los siguientes dataframes:\n",
    "\n",
    "**1.1 Music Revenues** (music_revenues)\n",
    "Este dataframe agrupará todas las filas que tengas en *metric* el valor de 'Value (Adjusted)', que es el ingreso teniendo en cuenta la inflación (revenues).\n",
    "\n",
    "**1.2. Music Values** (music_values)\n",
    "Dataframe con todos los valores de ingresos sin tener en cuenta la inflación.\n",
    "\n",
    "**1.3. Music Units** (music_units)\n",
    "Y este dataframe, agrupará los que tengan en *metric* el valor de 'Units' que son las unidades vendidas.\n"
   ]
  },
  {
   "cell_type": "markdown",
   "metadata": {},
   "source": [
    "### 1.1 Music Revenues"
   ]
  },
  {
   "cell_type": "code",
   "execution_count": 5,
   "metadata": {},
   "outputs": [
    {
     "data": {
      "text/plain": [
       "array([nan,  1.])"
      ]
     },
     "execution_count": 5,
     "metadata": {},
     "output_type": "execute_result"
    }
   ],
   "source": [
    "# Se podría haber hecho con la función de melt, pero ya lo tenía declarado así:\n",
    "\n",
    "# función para quedarme sólo con los valores de 'Value Adjusted'\n",
    "\n",
    "def value_adjusted(metric):\n",
    "    if metric == 'Value (Adjusted)':\n",
    "        return int(1)\n",
    "    \n",
    "# creo una columna en dónde se añadirá '1' a los que cumplan con la función:\n",
    "\n",
    "music_all['value_adjusted'] = music_all['metric'].apply(value_adjusted)\n",
    "music_all['value_adjusted'].unique()"
   ]
  },
  {
   "cell_type": "code",
   "execution_count": 6,
   "metadata": {
    "collapsed": true,
    "jupyter": {
     "outputs_hidden": true
    }
   },
   "outputs": [
    {
     "name": "stdout",
     "output_type": "stream",
     "text": [
      "<class 'pandas.core.frame.DataFrame'>\n",
      "Int64Index: 1351 entries, 10 to 3007\n",
      "Data columns (total 6 columns):\n",
      " #   Column             Non-Null Count  Dtype  \n",
      "---  ------             --------------  -----  \n",
      " 0   format             1351 non-null   object \n",
      " 1   metric             1351 non-null   object \n",
      " 2   year               1351 non-null   int64  \n",
      " 3   number_of_records  1351 non-null   int64  \n",
      " 4   value_actual       1351 non-null   float64\n",
      " 5   value_adjusted     436 non-null    float64\n",
      "dtypes: float64(2), int64(2), object(2)\n",
      "memory usage: 73.9+ KB\n"
     ]
    }
   ],
   "source": [
    "music_all.info()"
   ]
  },
  {
   "cell_type": "code",
   "execution_count": 7,
   "metadata": {},
   "outputs": [],
   "source": [
    "# ahora, me creo una copia del dataframe en dónde eliminaré los nan's:\n",
    "\n",
    "music_revenues = music_all.copy()"
   ]
  },
  {
   "cell_type": "code",
   "execution_count": 8,
   "metadata": {},
   "outputs": [],
   "source": [
    "music_revenues.dropna(inplace=True)"
   ]
  },
  {
   "cell_type": "code",
   "execution_count": 9,
   "metadata": {
    "collapsed": true,
    "jupyter": {
     "outputs_hidden": true
    }
   },
   "outputs": [
    {
     "name": "stdout",
     "output_type": "stream",
     "text": [
      "<class 'pandas.core.frame.DataFrame'>\n",
      "Int64Index: 436 entries, 1927 to 3007\n",
      "Data columns (total 6 columns):\n",
      " #   Column             Non-Null Count  Dtype  \n",
      "---  ------             --------------  -----  \n",
      " 0   format             436 non-null    object \n",
      " 1   metric             436 non-null    object \n",
      " 2   year               436 non-null    int64  \n",
      " 3   number_of_records  436 non-null    int64  \n",
      " 4   value_actual       436 non-null    float64\n",
      " 5   value_adjusted     436 non-null    float64\n",
      "dtypes: float64(2), int64(2), object(2)\n",
      "memory usage: 23.8+ KB\n"
     ]
    }
   ],
   "source": [
    "music_revenues.info()"
   ]
  },
  {
   "cell_type": "code",
   "execution_count": 10,
   "metadata": {},
   "outputs": [
    {
     "data": {
      "text/html": [
       "<div>\n",
       "<style scoped>\n",
       "    .dataframe tbody tr th:only-of-type {\n",
       "        vertical-align: middle;\n",
       "    }\n",
       "\n",
       "    .dataframe tbody tr th {\n",
       "        vertical-align: top;\n",
       "    }\n",
       "\n",
       "    .dataframe thead th {\n",
       "        text-align: right;\n",
       "    }\n",
       "</style>\n",
       "<table border=\"1\" class=\"dataframe\">\n",
       "  <thead>\n",
       "    <tr style=\"text-align: right;\">\n",
       "      <th></th>\n",
       "      <th>format</th>\n",
       "      <th>year</th>\n",
       "      <th>number_of_records</th>\n",
       "      <th>value_actual</th>\n",
       "    </tr>\n",
       "  </thead>\n",
       "  <tbody>\n",
       "    <tr>\n",
       "      <th>1927</th>\n",
       "      <td>8 - Track</td>\n",
       "      <td>1973</td>\n",
       "      <td>1</td>\n",
       "      <td>2815.681824</td>\n",
       "    </tr>\n",
       "    <tr>\n",
       "      <th>1928</th>\n",
       "      <td>8 - Track</td>\n",
       "      <td>1974</td>\n",
       "      <td>1</td>\n",
       "      <td>2848.008609</td>\n",
       "    </tr>\n",
       "    <tr>\n",
       "      <th>1929</th>\n",
       "      <td>8 - Track</td>\n",
       "      <td>1975</td>\n",
       "      <td>1</td>\n",
       "      <td>2770.409498</td>\n",
       "    </tr>\n",
       "    <tr>\n",
       "      <th>1930</th>\n",
       "      <td>8 - Track</td>\n",
       "      <td>1976</td>\n",
       "      <td>1</td>\n",
       "      <td>3047.215772</td>\n",
       "    </tr>\n",
       "    <tr>\n",
       "      <th>1931</th>\n",
       "      <td>8 - Track</td>\n",
       "      <td>1977</td>\n",
       "      <td>1</td>\n",
       "      <td>3421.416287</td>\n",
       "    </tr>\n",
       "  </tbody>\n",
       "</table>\n",
       "</div>"
      ],
      "text/plain": [
       "         format  year  number_of_records  value_actual\n",
       "1927  8 - Track  1973                  1   2815.681824\n",
       "1928  8 - Track  1974                  1   2848.008609\n",
       "1929  8 - Track  1975                  1   2770.409498\n",
       "1930  8 - Track  1976                  1   3047.215772\n",
       "1931  8 - Track  1977                  1   3421.416287"
      ]
     },
     "execution_count": 10,
     "metadata": {},
     "output_type": "execute_result"
    }
   ],
   "source": [
    "''' Aquí tengo ya un nuevo dataframe sólo con 'Value (Adjusted)'\n",
    "    en dónde puedo elimnar las columnas que no me interesan '''\n",
    "\n",
    "music_revenues.drop(['metric'], axis=1, inplace=True)\n",
    "music_revenues.drop(['value_adjusted'], axis=1, inplace=True)\n",
    "music_revenues.head()"
   ]
  },
  {
   "cell_type": "code",
   "execution_count": 11,
   "metadata": {},
   "outputs": [
    {
     "data": {
      "text/html": [
       "<div>\n",
       "<style scoped>\n",
       "    .dataframe tbody tr th:only-of-type {\n",
       "        vertical-align: middle;\n",
       "    }\n",
       "\n",
       "    .dataframe tbody tr th {\n",
       "        vertical-align: top;\n",
       "    }\n",
       "\n",
       "    .dataframe thead th {\n",
       "        text-align: right;\n",
       "    }\n",
       "</style>\n",
       "<table border=\"1\" class=\"dataframe\">\n",
       "  <thead>\n",
       "    <tr style=\"text-align: right;\">\n",
       "      <th></th>\n",
       "      <th>index</th>\n",
       "      <th>format</th>\n",
       "      <th>year</th>\n",
       "      <th>number_of_records</th>\n",
       "      <th>value_actual</th>\n",
       "    </tr>\n",
       "  </thead>\n",
       "  <tbody>\n",
       "    <tr>\n",
       "      <th>0</th>\n",
       "      <td>1927</td>\n",
       "      <td>8 - Track</td>\n",
       "      <td>1973</td>\n",
       "      <td>1</td>\n",
       "      <td>2815.681824</td>\n",
       "    </tr>\n",
       "    <tr>\n",
       "      <th>1</th>\n",
       "      <td>1928</td>\n",
       "      <td>8 - Track</td>\n",
       "      <td>1974</td>\n",
       "      <td>1</td>\n",
       "      <td>2848.008609</td>\n",
       "    </tr>\n",
       "    <tr>\n",
       "      <th>2</th>\n",
       "      <td>1929</td>\n",
       "      <td>8 - Track</td>\n",
       "      <td>1975</td>\n",
       "      <td>1</td>\n",
       "      <td>2770.409498</td>\n",
       "    </tr>\n",
       "    <tr>\n",
       "      <th>3</th>\n",
       "      <td>1930</td>\n",
       "      <td>8 - Track</td>\n",
       "      <td>1976</td>\n",
       "      <td>1</td>\n",
       "      <td>3047.215772</td>\n",
       "    </tr>\n",
       "    <tr>\n",
       "      <th>4</th>\n",
       "      <td>1931</td>\n",
       "      <td>8 - Track</td>\n",
       "      <td>1977</td>\n",
       "      <td>1</td>\n",
       "      <td>3421.416287</td>\n",
       "    </tr>\n",
       "  </tbody>\n",
       "</table>\n",
       "</div>"
      ],
      "text/plain": [
       "   index     format  year  number_of_records  value_actual\n",
       "0   1927  8 - Track  1973                  1   2815.681824\n",
       "1   1928  8 - Track  1974                  1   2848.008609\n",
       "2   1929  8 - Track  1975                  1   2770.409498\n",
       "3   1930  8 - Track  1976                  1   3047.215772\n",
       "4   1931  8 - Track  1977                  1   3421.416287"
      ]
     },
     "execution_count": 11,
     "metadata": {},
     "output_type": "execute_result"
    }
   ],
   "source": [
    "# tengo que reiniciar el index para tener mejor visualización:\n",
    "\n",
    "music_revenues.reset_index(inplace=True)\n",
    "music_revenues.head()"
   ]
  },
  {
   "cell_type": "code",
   "execution_count": 12,
   "metadata": {},
   "outputs": [
    {
     "data": {
      "text/html": [
       "<div>\n",
       "<style scoped>\n",
       "    .dataframe tbody tr th:only-of-type {\n",
       "        vertical-align: middle;\n",
       "    }\n",
       "\n",
       "    .dataframe tbody tr th {\n",
       "        vertical-align: top;\n",
       "    }\n",
       "\n",
       "    .dataframe thead th {\n",
       "        text-align: right;\n",
       "    }\n",
       "</style>\n",
       "<table border=\"1\" class=\"dataframe\">\n",
       "  <thead>\n",
       "    <tr style=\"text-align: right;\">\n",
       "      <th></th>\n",
       "      <th>format</th>\n",
       "      <th>year</th>\n",
       "      <th>number_of_records</th>\n",
       "      <th>value_actual</th>\n",
       "    </tr>\n",
       "  </thead>\n",
       "  <tbody>\n",
       "    <tr>\n",
       "      <th>0</th>\n",
       "      <td>8 - Track</td>\n",
       "      <td>1973</td>\n",
       "      <td>1</td>\n",
       "      <td>2815.681824</td>\n",
       "    </tr>\n",
       "    <tr>\n",
       "      <th>1</th>\n",
       "      <td>8 - Track</td>\n",
       "      <td>1974</td>\n",
       "      <td>1</td>\n",
       "      <td>2848.008609</td>\n",
       "    </tr>\n",
       "    <tr>\n",
       "      <th>2</th>\n",
       "      <td>8 - Track</td>\n",
       "      <td>1975</td>\n",
       "      <td>1</td>\n",
       "      <td>2770.409498</td>\n",
       "    </tr>\n",
       "    <tr>\n",
       "      <th>3</th>\n",
       "      <td>8 - Track</td>\n",
       "      <td>1976</td>\n",
       "      <td>1</td>\n",
       "      <td>3047.215772</td>\n",
       "    </tr>\n",
       "    <tr>\n",
       "      <th>4</th>\n",
       "      <td>8 - Track</td>\n",
       "      <td>1977</td>\n",
       "      <td>1</td>\n",
       "      <td>3421.416287</td>\n",
       "    </tr>\n",
       "  </tbody>\n",
       "</table>\n",
       "</div>"
      ],
      "text/plain": [
       "      format  year  number_of_records  value_actual\n",
       "0  8 - Track  1973                  1   2815.681824\n",
       "1  8 - Track  1974                  1   2848.008609\n",
       "2  8 - Track  1975                  1   2770.409498\n",
       "3  8 - Track  1976                  1   3047.215772\n",
       "4  8 - Track  1977                  1   3421.416287"
      ]
     },
     "execution_count": 12,
     "metadata": {},
     "output_type": "execute_result"
    }
   ],
   "source": [
    "# y eliminar la columna 'index' que me creó:\n",
    "music_revenues.drop(['index'], inplace=True, axis=1)\n",
    "music_revenues.head()"
   ]
  },
  {
   "cell_type": "markdown",
   "metadata": {},
   "source": [
    "### Creando Columnas"
   ]
  },
  {
   "cell_type": "markdown",
   "metadata": {},
   "source": [
    "Una vez tengo el dataframe con los datos que me interesan, debo también crear las siguientes columnas:\n",
    "- Category: En dónde diferenciaré por categorías de formatos.\n",
    "- Type: En dónde podré especificar el tipo 'Digital' o 'Physical'."
   ]
  },
  {
   "cell_type": "markdown",
   "metadata": {},
   "source": [
    "### Función para crear columna de 'Category'"
   ]
  },
  {
   "cell_type": "code",
   "execution_count": 13,
   "metadata": {
    "jupyter": {
     "source_hidden": true
    }
   },
   "outputs": [],
   "source": [
    "# Función para agrupar por categorías:\n",
    "''' El código está puesto largo ya que no me dejaba hacer\n",
    "    ENTER para tenerlo más organizado '''\n",
    "\n",
    "def categoria(formato):\n",
    "    # formatos 'physical'\n",
    "    if formato == '8 - Track' or formato == 'Cassette' or formato == 'Cassette Single' or formato == 'Other Tapes':\n",
    "        return 'Cassettes & Tapes'\n",
    "    \n",
    "    elif formato == 'CD' or formato == 'CD Single' or formato == 'SACD':\n",
    "        return 'CD & Singles'\n",
    "    \n",
    "    elif formato == 'DVD Audio' or formato == 'Music Video (Physical)':\n",
    "        return 'DVDs'\n",
    "    \n",
    "    elif formato == 'LP/EP' or formato == 'Vinyl Single':\n",
    "        return 'Vinyl'             \n",
    "    \n",
    "    # formatos 'digital'\n",
    "    elif formato == 'Download Album' or formato == 'Download Music Video' or formato == 'Download Single':\n",
    "        return 'Downloads'\n",
    "    \n",
    "    elif formato == 'Limited Tier Paid Subscription':\n",
    "        return 'Limited Subscriptions'\n",
    "    \n",
    "    elif formato == 'On-Demand Streaming (Ad-Supported)' or formato == 'Other Ad-Supported Streaming':\n",
    "        return 'Ad-Supported Streaming'\n",
    "\n",
    "    elif formato == 'Other Digital' or formato == 'Synchronization':\n",
    "        return 'License (YouTube)'\n",
    "    \n",
    "    elif formato == 'Paid Subscriptions' or 'Paid Subscription':\n",
    "        return 'Streaming Subscriptions'\n",
    "    \n",
    "    elif formato == 'Ringtones & Ringbacks' or formato == 'Kiosk':\n",
    "        return 'Ringtones & Kiosk'\n",
    "    \n",
    "    elif formato == 'SoundExchange Distributions':\n",
    "        return 'SoundExchange'\n"
   ]
  },
  {
   "cell_type": "code",
   "execution_count": 14,
   "metadata": {},
   "outputs": [
    {
     "data": {
      "text/html": [
       "<div>\n",
       "<style scoped>\n",
       "    .dataframe tbody tr th:only-of-type {\n",
       "        vertical-align: middle;\n",
       "    }\n",
       "\n",
       "    .dataframe tbody tr th {\n",
       "        vertical-align: top;\n",
       "    }\n",
       "\n",
       "    .dataframe thead th {\n",
       "        text-align: right;\n",
       "    }\n",
       "</style>\n",
       "<table border=\"1\" class=\"dataframe\">\n",
       "  <thead>\n",
       "    <tr style=\"text-align: right;\">\n",
       "      <th></th>\n",
       "      <th>format</th>\n",
       "      <th>year</th>\n",
       "      <th>number_of_records</th>\n",
       "      <th>value_actual</th>\n",
       "      <th>category</th>\n",
       "    </tr>\n",
       "  </thead>\n",
       "  <tbody>\n",
       "    <tr>\n",
       "      <th>0</th>\n",
       "      <td>8 - Track</td>\n",
       "      <td>1973</td>\n",
       "      <td>1</td>\n",
       "      <td>2815.681824</td>\n",
       "      <td>Cassettes &amp; Tapes</td>\n",
       "    </tr>\n",
       "    <tr>\n",
       "      <th>1</th>\n",
       "      <td>8 - Track</td>\n",
       "      <td>1974</td>\n",
       "      <td>1</td>\n",
       "      <td>2848.008609</td>\n",
       "      <td>Cassettes &amp; Tapes</td>\n",
       "    </tr>\n",
       "    <tr>\n",
       "      <th>2</th>\n",
       "      <td>8 - Track</td>\n",
       "      <td>1975</td>\n",
       "      <td>1</td>\n",
       "      <td>2770.409498</td>\n",
       "      <td>Cassettes &amp; Tapes</td>\n",
       "    </tr>\n",
       "    <tr>\n",
       "      <th>3</th>\n",
       "      <td>8 - Track</td>\n",
       "      <td>1976</td>\n",
       "      <td>1</td>\n",
       "      <td>3047.215772</td>\n",
       "      <td>Cassettes &amp; Tapes</td>\n",
       "    </tr>\n",
       "    <tr>\n",
       "      <th>4</th>\n",
       "      <td>8 - Track</td>\n",
       "      <td>1977</td>\n",
       "      <td>1</td>\n",
       "      <td>3421.416287</td>\n",
       "      <td>Cassettes &amp; Tapes</td>\n",
       "    </tr>\n",
       "  </tbody>\n",
       "</table>\n",
       "</div>"
      ],
      "text/plain": [
       "      format  year  number_of_records  value_actual           category\n",
       "0  8 - Track  1973                  1   2815.681824  Cassettes & Tapes\n",
       "1  8 - Track  1974                  1   2848.008609  Cassettes & Tapes\n",
       "2  8 - Track  1975                  1   2770.409498  Cassettes & Tapes\n",
       "3  8 - Track  1976                  1   3047.215772  Cassettes & Tapes\n",
       "4  8 - Track  1977                  1   3421.416287  Cassettes & Tapes"
      ]
     },
     "execution_count": 14,
     "metadata": {},
     "output_type": "execute_result"
    }
   ],
   "source": [
    "# Añado columna con la función creada:\n",
    "\n",
    "music_revenues['category'] = music_revenues['format'].apply(categoria)\n",
    "music_revenues.head()"
   ]
  },
  {
   "cell_type": "markdown",
   "metadata": {},
   "source": [
    "### Función para crear columna de 'Type'"
   ]
  },
  {
   "cell_type": "code",
   "execution_count": 15,
   "metadata": {
    "jupyter": {
     "source_hidden": true
    }
   },
   "outputs": [],
   "source": [
    "# Creo función para la columna 'Type':\n",
    "\n",
    "def digital_physical(formato):\n",
    "    if formato == '8 - Track':\n",
    "        return 'Physical'\n",
    "    elif formato == 'CD':\n",
    "        return 'Physical'\n",
    "    elif formato == 'CD Single':\n",
    "        return 'Physical'\n",
    "    elif formato == 'Cassette':\n",
    "        return 'Physical'\n",
    "    elif formato == 'Cassette Single':\n",
    "        return 'Physical'        \n",
    "    elif formato == 'DVD Audio':\n",
    "        return 'Physical'\n",
    "    elif formato == 'LP/EP':\n",
    "        return 'Physical'\n",
    "    elif formato == 'Music Video (Physical)':\n",
    "        return 'Physical'        \n",
    "    elif formato == 'Other Tapes':\n",
    "        return 'Physical'\n",
    "    elif formato == 'SACD':\n",
    "        return 'Physical'        \n",
    "    elif formato == 'Vinyl Single':\n",
    "        return 'Physical'\n",
    "    \n",
    "    elif formato == 'Download Album':\n",
    "        return 'Digital'        \n",
    "    elif formato == 'Download Music Video':\n",
    "        return 'Digital'\n",
    "    elif formato == 'Download Single':\n",
    "        return 'Digital'\n",
    "    elif formato == 'Kiosk':\n",
    "        return 'Digital'        \n",
    "    elif formato == 'Limited Tier Paid Subscription':\n",
    "        return 'Digital'\n",
    "    elif formato == 'On-Demand Streaming (Ad-Supported)':\n",
    "        return 'Digital'\n",
    "    elif formato == 'Other Ad-Supported Streaming':\n",
    "        return 'Digital'\n",
    "    elif formato == 'Other Digital':\n",
    "        return 'Digital'\n",
    "    elif formato == 'Paid Subscriptions' or 'Paid Subscription':\n",
    "        return 'Digital'\n",
    "    elif formato == 'Ringtones & Ringbacks':\n",
    "        return 'Digital'        \n",
    "    elif formato == 'SoundExchange Distributions':\n",
    "        return 'Digital'\n",
    "    elif formato == 'Synchronization':\n",
    "        return 'Digital'\n"
   ]
  },
  {
   "cell_type": "code",
   "execution_count": 16,
   "metadata": {},
   "outputs": [
    {
     "data": {
      "text/html": [
       "<div>\n",
       "<style scoped>\n",
       "    .dataframe tbody tr th:only-of-type {\n",
       "        vertical-align: middle;\n",
       "    }\n",
       "\n",
       "    .dataframe tbody tr th {\n",
       "        vertical-align: top;\n",
       "    }\n",
       "\n",
       "    .dataframe thead th {\n",
       "        text-align: right;\n",
       "    }\n",
       "</style>\n",
       "<table border=\"1\" class=\"dataframe\">\n",
       "  <thead>\n",
       "    <tr style=\"text-align: right;\">\n",
       "      <th></th>\n",
       "      <th>format</th>\n",
       "      <th>year</th>\n",
       "      <th>number_of_records</th>\n",
       "      <th>value_actual</th>\n",
       "      <th>category</th>\n",
       "      <th>type</th>\n",
       "    </tr>\n",
       "  </thead>\n",
       "  <tbody>\n",
       "    <tr>\n",
       "      <th>0</th>\n",
       "      <td>8 - Track</td>\n",
       "      <td>1973</td>\n",
       "      <td>1</td>\n",
       "      <td>2815.681824</td>\n",
       "      <td>Cassettes &amp; Tapes</td>\n",
       "      <td>Physical</td>\n",
       "    </tr>\n",
       "    <tr>\n",
       "      <th>1</th>\n",
       "      <td>8 - Track</td>\n",
       "      <td>1974</td>\n",
       "      <td>1</td>\n",
       "      <td>2848.008609</td>\n",
       "      <td>Cassettes &amp; Tapes</td>\n",
       "      <td>Physical</td>\n",
       "    </tr>\n",
       "    <tr>\n",
       "      <th>2</th>\n",
       "      <td>8 - Track</td>\n",
       "      <td>1975</td>\n",
       "      <td>1</td>\n",
       "      <td>2770.409498</td>\n",
       "      <td>Cassettes &amp; Tapes</td>\n",
       "      <td>Physical</td>\n",
       "    </tr>\n",
       "    <tr>\n",
       "      <th>3</th>\n",
       "      <td>8 - Track</td>\n",
       "      <td>1976</td>\n",
       "      <td>1</td>\n",
       "      <td>3047.215772</td>\n",
       "      <td>Cassettes &amp; Tapes</td>\n",
       "      <td>Physical</td>\n",
       "    </tr>\n",
       "    <tr>\n",
       "      <th>4</th>\n",
       "      <td>8 - Track</td>\n",
       "      <td>1977</td>\n",
       "      <td>1</td>\n",
       "      <td>3421.416287</td>\n",
       "      <td>Cassettes &amp; Tapes</td>\n",
       "      <td>Physical</td>\n",
       "    </tr>\n",
       "    <tr>\n",
       "      <th>...</th>\n",
       "      <td>...</td>\n",
       "      <td>...</td>\n",
       "      <td>...</td>\n",
       "      <td>...</td>\n",
       "      <td>...</td>\n",
       "      <td>...</td>\n",
       "    </tr>\n",
       "    <tr>\n",
       "      <th>411</th>\n",
       "      <td>Vinyl Single</td>\n",
       "      <td>1995</td>\n",
       "      <td>1</td>\n",
       "      <td>78.341089</td>\n",
       "      <td>Vinyl</td>\n",
       "      <td>Physical</td>\n",
       "    </tr>\n",
       "    <tr>\n",
       "      <th>412</th>\n",
       "      <td>Vinyl Single</td>\n",
       "      <td>1996</td>\n",
       "      <td>1</td>\n",
       "      <td>77.397753</td>\n",
       "      <td>Vinyl</td>\n",
       "      <td>Physical</td>\n",
       "    </tr>\n",
       "    <tr>\n",
       "      <th>413</th>\n",
       "      <td>Vinyl Single</td>\n",
       "      <td>1997</td>\n",
       "      <td>1</td>\n",
       "      <td>56.706475</td>\n",
       "      <td>Vinyl</td>\n",
       "      <td>Physical</td>\n",
       "    </tr>\n",
       "    <tr>\n",
       "      <th>414</th>\n",
       "      <td>Vinyl Single</td>\n",
       "      <td>1998</td>\n",
       "      <td>1</td>\n",
       "      <td>40.309110</td>\n",
       "      <td>Vinyl</td>\n",
       "      <td>Physical</td>\n",
       "    </tr>\n",
       "    <tr>\n",
       "      <th>415</th>\n",
       "      <td>Vinyl Single</td>\n",
       "      <td>1999</td>\n",
       "      <td>1</td>\n",
       "      <td>42.814107</td>\n",
       "      <td>Vinyl</td>\n",
       "      <td>Physical</td>\n",
       "    </tr>\n",
       "  </tbody>\n",
       "</table>\n",
       "<p>416 rows × 6 columns</p>\n",
       "</div>"
      ],
      "text/plain": [
       "           format  year  number_of_records  value_actual           category  \\\n",
       "0       8 - Track  1973                  1   2815.681824  Cassettes & Tapes   \n",
       "1       8 - Track  1974                  1   2848.008609  Cassettes & Tapes   \n",
       "2       8 - Track  1975                  1   2770.409498  Cassettes & Tapes   \n",
       "3       8 - Track  1976                  1   3047.215772  Cassettes & Tapes   \n",
       "4       8 - Track  1977                  1   3421.416287  Cassettes & Tapes   \n",
       "..            ...   ...                ...           ...                ...   \n",
       "411  Vinyl Single  1995                  1     78.341089              Vinyl   \n",
       "412  Vinyl Single  1996                  1     77.397753              Vinyl   \n",
       "413  Vinyl Single  1997                  1     56.706475              Vinyl   \n",
       "414  Vinyl Single  1998                  1     40.309110              Vinyl   \n",
       "415  Vinyl Single  1999                  1     42.814107              Vinyl   \n",
       "\n",
       "         type  \n",
       "0    Physical  \n",
       "1    Physical  \n",
       "2    Physical  \n",
       "3    Physical  \n",
       "4    Physical  \n",
       "..        ...  \n",
       "411  Physical  \n",
       "412  Physical  \n",
       "413  Physical  \n",
       "414  Physical  \n",
       "415  Physical  \n",
       "\n",
       "[416 rows x 6 columns]"
      ]
     },
     "execution_count": 16,
     "metadata": {},
     "output_type": "execute_result"
    }
   ],
   "source": [
    "# añado la columna de 'type', aplicando la función de 'digital_physical':\n",
    "\n",
    "music_revenues['type'] = music_revenues['format'].apply(digital_physical)\n",
    "music_revenues.head(-20)"
   ]
  },
  {
   "cell_type": "code",
   "execution_count": 19,
   "metadata": {},
   "outputs": [],
   "source": [
    "''' Me interesa ordenar los formatos según el 'type' para que en los\n",
    "    gráficos, sea más fácil entender la leyenda y los colores vayan\n",
    "    de acuerdo a physical y digital'''\n",
    "\n",
    "music_revenues.sort_values(by='type', inplace=True, ascending=False)"
   ]
  },
  {
   "cell_type": "markdown",
   "metadata": {},
   "source": [
    "## 1.2. Music Values"
   ]
  },
  {
   "cell_type": "markdown",
   "metadata": {},
   "source": [
    "**PARA UN MEJOR ENTENDIMIENTO, HACEMOS UN DATAFRAME CON EL VALOR REAL SIN TENER EN CUENTA LA INFLACIÓN**"
   ]
  },
  {
   "cell_type": "code",
   "execution_count": 20,
   "metadata": {},
   "outputs": [],
   "source": [
    "music_values = music_all.copy()"
   ]
  },
  {
   "cell_type": "code",
   "execution_count": 21,
   "metadata": {},
   "outputs": [
    {
     "data": {
      "text/plain": [
       "array([nan,  1.])"
      ]
     },
     "execution_count": 21,
     "metadata": {},
     "output_type": "execute_result"
    }
   ],
   "source": [
    "def value(metric):\n",
    "    if metric == 'Value':\n",
    "        return int(1)\n",
    "    \n",
    "# creo una columna en dónde se añadirá '1' a los que cumplan con la función:\n",
    "\n",
    "music_values['value'] = music_all['metric'].apply(value)\n",
    "music_values['value'].unique()"
   ]
  },
  {
   "cell_type": "code",
   "execution_count": 22,
   "metadata": {},
   "outputs": [
    {
     "data": {
      "text/html": [
       "<div>\n",
       "<style scoped>\n",
       "    .dataframe tbody tr th:only-of-type {\n",
       "        vertical-align: middle;\n",
       "    }\n",
       "\n",
       "    .dataframe tbody tr th {\n",
       "        vertical-align: top;\n",
       "    }\n",
       "\n",
       "    .dataframe thead th {\n",
       "        text-align: right;\n",
       "    }\n",
       "</style>\n",
       "<table border=\"1\" class=\"dataframe\">\n",
       "  <thead>\n",
       "    <tr style=\"text-align: right;\">\n",
       "      <th></th>\n",
       "      <th>format</th>\n",
       "      <th>metric</th>\n",
       "      <th>year</th>\n",
       "      <th>number_of_records</th>\n",
       "      <th>value_actual</th>\n",
       "      <th>value_adjusted</th>\n",
       "      <th>value</th>\n",
       "    </tr>\n",
       "  </thead>\n",
       "  <tbody>\n",
       "    <tr>\n",
       "      <th>10</th>\n",
       "      <td>CD</td>\n",
       "      <td>Units</td>\n",
       "      <td>1983</td>\n",
       "      <td>1</td>\n",
       "      <td>0.8</td>\n",
       "      <td>NaN</td>\n",
       "      <td>NaN</td>\n",
       "    </tr>\n",
       "    <tr>\n",
       "      <th>11</th>\n",
       "      <td>CD</td>\n",
       "      <td>Units</td>\n",
       "      <td>1984</td>\n",
       "      <td>1</td>\n",
       "      <td>5.8</td>\n",
       "      <td>NaN</td>\n",
       "      <td>NaN</td>\n",
       "    </tr>\n",
       "    <tr>\n",
       "      <th>12</th>\n",
       "      <td>CD</td>\n",
       "      <td>Units</td>\n",
       "      <td>1985</td>\n",
       "      <td>1</td>\n",
       "      <td>22.6</td>\n",
       "      <td>NaN</td>\n",
       "      <td>NaN</td>\n",
       "    </tr>\n",
       "    <tr>\n",
       "      <th>13</th>\n",
       "      <td>CD</td>\n",
       "      <td>Units</td>\n",
       "      <td>1986</td>\n",
       "      <td>1</td>\n",
       "      <td>53.0</td>\n",
       "      <td>NaN</td>\n",
       "      <td>NaN</td>\n",
       "    </tr>\n",
       "    <tr>\n",
       "      <th>14</th>\n",
       "      <td>CD</td>\n",
       "      <td>Units</td>\n",
       "      <td>1987</td>\n",
       "      <td>1</td>\n",
       "      <td>102.1</td>\n",
       "      <td>NaN</td>\n",
       "      <td>NaN</td>\n",
       "    </tr>\n",
       "  </tbody>\n",
       "</table>\n",
       "</div>"
      ],
      "text/plain": [
       "   format metric  year  number_of_records  value_actual  value_adjusted  value\n",
       "10     CD  Units  1983                  1           0.8             NaN    NaN\n",
       "11     CD  Units  1984                  1           5.8             NaN    NaN\n",
       "12     CD  Units  1985                  1          22.6             NaN    NaN\n",
       "13     CD  Units  1986                  1          53.0             NaN    NaN\n",
       "14     CD  Units  1987                  1         102.1             NaN    NaN"
      ]
     },
     "execution_count": 22,
     "metadata": {},
     "output_type": "execute_result"
    }
   ],
   "source": [
    "music_values.head()"
   ]
  },
  {
   "cell_type": "code",
   "execution_count": 23,
   "metadata": {},
   "outputs": [],
   "source": [
    "music_values.drop(['value_adjusted'], axis=1, inplace=True)"
   ]
  },
  {
   "cell_type": "code",
   "execution_count": 24,
   "metadata": {},
   "outputs": [
    {
     "name": "stdout",
     "output_type": "stream",
     "text": [
      "<class 'pandas.core.frame.DataFrame'>\n",
      "Int64Index: 1351 entries, 10 to 3007\n",
      "Data columns (total 6 columns):\n",
      " #   Column             Non-Null Count  Dtype  \n",
      "---  ------             --------------  -----  \n",
      " 0   format             1351 non-null   object \n",
      " 1   metric             1351 non-null   object \n",
      " 2   year               1351 non-null   int64  \n",
      " 3   number_of_records  1351 non-null   int64  \n",
      " 4   value_actual       1351 non-null   float64\n",
      " 5   value              437 non-null    float64\n",
      "dtypes: float64(2), int64(2), object(2)\n",
      "memory usage: 73.9+ KB\n"
     ]
    }
   ],
   "source": [
    "music_values.info()"
   ]
  },
  {
   "cell_type": "code",
   "execution_count": 25,
   "metadata": {},
   "outputs": [],
   "source": [
    "music_values.dropna(inplace=True)"
   ]
  },
  {
   "cell_type": "code",
   "execution_count": 26,
   "metadata": {},
   "outputs": [
    {
     "name": "stdout",
     "output_type": "stream",
     "text": [
      "<class 'pandas.core.frame.DataFrame'>\n",
      "Int64Index: 437 entries, 856 to 1926\n",
      "Data columns (total 5 columns):\n",
      " #   Column             Non-Null Count  Dtype  \n",
      "---  ------             --------------  -----  \n",
      " 0   format             437 non-null    object \n",
      " 1   metric             437 non-null    object \n",
      " 2   year               437 non-null    int64  \n",
      " 3   number_of_records  437 non-null    int64  \n",
      " 4   value_actual       437 non-null    float64\n",
      "dtypes: float64(1), int64(2), object(2)\n",
      "memory usage: 20.5+ KB\n"
     ]
    }
   ],
   "source": [
    "music_values.drop(['value'], axis=1, inplace=True)\n",
    "music_values.info()"
   ]
  },
  {
   "cell_type": "markdown",
   "metadata": {},
   "source": [
    "### APLICAMOS FUNCIONES CREADAS ANTERIORMENTE."
   ]
  },
  {
   "cell_type": "code",
   "execution_count": 27,
   "metadata": {},
   "outputs": [],
   "source": [
    "music_values['category'] = music_values['format'].apply(categoria)\n",
    "music_values['type'] = music_values['format'].apply(digital_physical)"
   ]
  },
  {
   "cell_type": "code",
   "execution_count": 28,
   "metadata": {},
   "outputs": [
    {
     "data": {
      "text/html": [
       "<div>\n",
       "<style scoped>\n",
       "    .dataframe tbody tr th:only-of-type {\n",
       "        vertical-align: middle;\n",
       "    }\n",
       "\n",
       "    .dataframe tbody tr th {\n",
       "        vertical-align: top;\n",
       "    }\n",
       "\n",
       "    .dataframe thead th {\n",
       "        text-align: right;\n",
       "    }\n",
       "</style>\n",
       "<table border=\"1\" class=\"dataframe\">\n",
       "  <thead>\n",
       "    <tr style=\"text-align: right;\">\n",
       "      <th></th>\n",
       "      <th>format</th>\n",
       "      <th>metric</th>\n",
       "      <th>year</th>\n",
       "      <th>number_of_records</th>\n",
       "      <th>value_actual</th>\n",
       "      <th>category</th>\n",
       "      <th>type</th>\n",
       "    </tr>\n",
       "  </thead>\n",
       "  <tbody>\n",
       "    <tr>\n",
       "      <th>856</th>\n",
       "      <td>CD</td>\n",
       "      <td>Value</td>\n",
       "      <td>1983</td>\n",
       "      <td>1</td>\n",
       "      <td>17.2</td>\n",
       "      <td>CD &amp; Singles</td>\n",
       "      <td>Physical</td>\n",
       "    </tr>\n",
       "    <tr>\n",
       "      <th>857</th>\n",
       "      <td>CD</td>\n",
       "      <td>Value</td>\n",
       "      <td>1984</td>\n",
       "      <td>1</td>\n",
       "      <td>103.3</td>\n",
       "      <td>CD &amp; Singles</td>\n",
       "      <td>Physical</td>\n",
       "    </tr>\n",
       "    <tr>\n",
       "      <th>858</th>\n",
       "      <td>CD</td>\n",
       "      <td>Value</td>\n",
       "      <td>1985</td>\n",
       "      <td>1</td>\n",
       "      <td>389.5</td>\n",
       "      <td>CD &amp; Singles</td>\n",
       "      <td>Physical</td>\n",
       "    </tr>\n",
       "    <tr>\n",
       "      <th>859</th>\n",
       "      <td>CD</td>\n",
       "      <td>Value</td>\n",
       "      <td>1986</td>\n",
       "      <td>1</td>\n",
       "      <td>930.1</td>\n",
       "      <td>CD &amp; Singles</td>\n",
       "      <td>Physical</td>\n",
       "    </tr>\n",
       "    <tr>\n",
       "      <th>860</th>\n",
       "      <td>CD</td>\n",
       "      <td>Value</td>\n",
       "      <td>1987</td>\n",
       "      <td>1</td>\n",
       "      <td>1593.6</td>\n",
       "      <td>CD &amp; Singles</td>\n",
       "      <td>Physical</td>\n",
       "    </tr>\n",
       "  </tbody>\n",
       "</table>\n",
       "</div>"
      ],
      "text/plain": [
       "    format metric  year  number_of_records  value_actual      category  \\\n",
       "856     CD  Value  1983                  1          17.2  CD & Singles   \n",
       "857     CD  Value  1984                  1         103.3  CD & Singles   \n",
       "858     CD  Value  1985                  1         389.5  CD & Singles   \n",
       "859     CD  Value  1986                  1         930.1  CD & Singles   \n",
       "860     CD  Value  1987                  1        1593.6  CD & Singles   \n",
       "\n",
       "         type  \n",
       "856  Physical  \n",
       "857  Physical  \n",
       "858  Physical  \n",
       "859  Physical  \n",
       "860  Physical  "
      ]
     },
     "execution_count": 28,
     "metadata": {},
     "output_type": "execute_result"
    }
   ],
   "source": [
    "music_values.head()"
   ]
  },
  {
   "cell_type": "code",
   "execution_count": 29,
   "metadata": {},
   "outputs": [],
   "source": [
    "music_values.reset_index(inplace=True)"
   ]
  },
  {
   "cell_type": "code",
   "execution_count": 30,
   "metadata": {},
   "outputs": [
    {
     "data": {
      "text/html": [
       "<div>\n",
       "<style scoped>\n",
       "    .dataframe tbody tr th:only-of-type {\n",
       "        vertical-align: middle;\n",
       "    }\n",
       "\n",
       "    .dataframe tbody tr th {\n",
       "        vertical-align: top;\n",
       "    }\n",
       "\n",
       "    .dataframe thead th {\n",
       "        text-align: right;\n",
       "    }\n",
       "</style>\n",
       "<table border=\"1\" class=\"dataframe\">\n",
       "  <thead>\n",
       "    <tr style=\"text-align: right;\">\n",
       "      <th></th>\n",
       "      <th>format</th>\n",
       "      <th>metric</th>\n",
       "      <th>year</th>\n",
       "      <th>number_of_records</th>\n",
       "      <th>value_actual</th>\n",
       "      <th>category</th>\n",
       "      <th>type</th>\n",
       "    </tr>\n",
       "  </thead>\n",
       "  <tbody>\n",
       "    <tr>\n",
       "      <th>0</th>\n",
       "      <td>CD</td>\n",
       "      <td>Value</td>\n",
       "      <td>1983</td>\n",
       "      <td>1</td>\n",
       "      <td>17.2</td>\n",
       "      <td>CD &amp; Singles</td>\n",
       "      <td>Physical</td>\n",
       "    </tr>\n",
       "    <tr>\n",
       "      <th>1</th>\n",
       "      <td>CD</td>\n",
       "      <td>Value</td>\n",
       "      <td>1984</td>\n",
       "      <td>1</td>\n",
       "      <td>103.3</td>\n",
       "      <td>CD &amp; Singles</td>\n",
       "      <td>Physical</td>\n",
       "    </tr>\n",
       "    <tr>\n",
       "      <th>2</th>\n",
       "      <td>CD</td>\n",
       "      <td>Value</td>\n",
       "      <td>1985</td>\n",
       "      <td>1</td>\n",
       "      <td>389.5</td>\n",
       "      <td>CD &amp; Singles</td>\n",
       "      <td>Physical</td>\n",
       "    </tr>\n",
       "    <tr>\n",
       "      <th>3</th>\n",
       "      <td>CD</td>\n",
       "      <td>Value</td>\n",
       "      <td>1986</td>\n",
       "      <td>1</td>\n",
       "      <td>930.1</td>\n",
       "      <td>CD &amp; Singles</td>\n",
       "      <td>Physical</td>\n",
       "    </tr>\n",
       "    <tr>\n",
       "      <th>4</th>\n",
       "      <td>CD</td>\n",
       "      <td>Value</td>\n",
       "      <td>1987</td>\n",
       "      <td>1</td>\n",
       "      <td>1593.6</td>\n",
       "      <td>CD &amp; Singles</td>\n",
       "      <td>Physical</td>\n",
       "    </tr>\n",
       "  </tbody>\n",
       "</table>\n",
       "</div>"
      ],
      "text/plain": [
       "  format metric  year  number_of_records  value_actual      category      type\n",
       "0     CD  Value  1983                  1          17.2  CD & Singles  Physical\n",
       "1     CD  Value  1984                  1         103.3  CD & Singles  Physical\n",
       "2     CD  Value  1985                  1         389.5  CD & Singles  Physical\n",
       "3     CD  Value  1986                  1         930.1  CD & Singles  Physical\n",
       "4     CD  Value  1987                  1        1593.6  CD & Singles  Physical"
      ]
     },
     "execution_count": 30,
     "metadata": {},
     "output_type": "execute_result"
    }
   ],
   "source": [
    "music_values.drop(['index'], axis=1, inplace=True)\n",
    "music_values.head()"
   ]
  },
  {
   "cell_type": "code",
   "execution_count": 88,
   "metadata": {},
   "outputs": [
    {
     "data": {
      "text/plain": [
       "array(['CD & Singles', 'Cassettes & Tapes', 'DVDs', 'Downloads',\n",
       "       'Streaming Subscriptions', 'Vinyl', 'Limited Subscriptions',\n",
       "       'Ad-Supported Streaming', 'License (YouTube)'], dtype=object)"
      ]
     },
     "execution_count": 88,
     "metadata": {},
     "output_type": "execute_result"
    }
   ],
   "source": [
    "music_values['category'].unique()"
   ]
  },
  {
   "cell_type": "markdown",
   "metadata": {},
   "source": [
    "## 1.3. Music Units"
   ]
  },
  {
   "cell_type": "code",
   "execution_count": 72,
   "metadata": {},
   "outputs": [
    {
     "data": {
      "text/html": [
       "<div>\n",
       "<style scoped>\n",
       "    .dataframe tbody tr th:only-of-type {\n",
       "        vertical-align: middle;\n",
       "    }\n",
       "\n",
       "    .dataframe tbody tr th {\n",
       "        vertical-align: top;\n",
       "    }\n",
       "\n",
       "    .dataframe thead th {\n",
       "        text-align: right;\n",
       "    }\n",
       "</style>\n",
       "<table border=\"1\" class=\"dataframe\">\n",
       "  <thead>\n",
       "    <tr style=\"text-align: right;\">\n",
       "      <th></th>\n",
       "      <th>format</th>\n",
       "      <th>metric</th>\n",
       "      <th>year</th>\n",
       "      <th>number_of_records</th>\n",
       "      <th>value_actual</th>\n",
       "      <th>value_adjusted</th>\n",
       "    </tr>\n",
       "  </thead>\n",
       "  <tbody>\n",
       "    <tr>\n",
       "      <th>10</th>\n",
       "      <td>CD</td>\n",
       "      <td>Units</td>\n",
       "      <td>1983</td>\n",
       "      <td>1</td>\n",
       "      <td>0.8</td>\n",
       "      <td>NaN</td>\n",
       "    </tr>\n",
       "    <tr>\n",
       "      <th>11</th>\n",
       "      <td>CD</td>\n",
       "      <td>Units</td>\n",
       "      <td>1984</td>\n",
       "      <td>1</td>\n",
       "      <td>5.8</td>\n",
       "      <td>NaN</td>\n",
       "    </tr>\n",
       "    <tr>\n",
       "      <th>12</th>\n",
       "      <td>CD</td>\n",
       "      <td>Units</td>\n",
       "      <td>1985</td>\n",
       "      <td>1</td>\n",
       "      <td>22.6</td>\n",
       "      <td>NaN</td>\n",
       "    </tr>\n",
       "    <tr>\n",
       "      <th>13</th>\n",
       "      <td>CD</td>\n",
       "      <td>Units</td>\n",
       "      <td>1986</td>\n",
       "      <td>1</td>\n",
       "      <td>53.0</td>\n",
       "      <td>NaN</td>\n",
       "    </tr>\n",
       "    <tr>\n",
       "      <th>14</th>\n",
       "      <td>CD</td>\n",
       "      <td>Units</td>\n",
       "      <td>1987</td>\n",
       "      <td>1</td>\n",
       "      <td>102.1</td>\n",
       "      <td>NaN</td>\n",
       "    </tr>\n",
       "  </tbody>\n",
       "</table>\n",
       "</div>"
      ],
      "text/plain": [
       "   format metric  year  number_of_records  value_actual  value_adjusted\n",
       "10     CD  Units  1983                  1           0.8             NaN\n",
       "11     CD  Units  1984                  1           5.8             NaN\n",
       "12     CD  Units  1985                  1          22.6             NaN\n",
       "13     CD  Units  1986                  1          53.0             NaN\n",
       "14     CD  Units  1987                  1         102.1             NaN"
      ]
     },
     "execution_count": 72,
     "metadata": {},
     "output_type": "execute_result"
    }
   ],
   "source": [
    "# el mismo proceso que hice para el dataframe anterior:\n",
    "\n",
    "music_units = music_all.copy()\n",
    "music_units.head()"
   ]
  },
  {
   "cell_type": "code",
   "execution_count": 73,
   "metadata": {},
   "outputs": [
    {
     "data": {
      "text/plain": [
       "array([ 1., nan])"
      ]
     },
     "execution_count": 73,
     "metadata": {},
     "output_type": "execute_result"
    }
   ],
   "source": [
    "# función para quedarme sólo con los valores de 'Units'\n",
    "\n",
    "def value_units(metric):\n",
    "    if metric == 'Units':\n",
    "        return int(1)\n",
    "    \n",
    "# creo una columna en dónde se añadirá '1' a los que cumplan con la función:\n",
    "\n",
    "music_units['units'] = music_units['metric'].apply(value_units)\n",
    "music_units['units'].unique()"
   ]
  },
  {
   "cell_type": "code",
   "execution_count": 74,
   "metadata": {},
   "outputs": [
    {
     "name": "stdout",
     "output_type": "stream",
     "text": [
      "<class 'pandas.core.frame.DataFrame'>\n",
      "Int64Index: 1351 entries, 10 to 3007\n",
      "Data columns (total 7 columns):\n",
      " #   Column             Non-Null Count  Dtype  \n",
      "---  ------             --------------  -----  \n",
      " 0   format             1351 non-null   object \n",
      " 1   metric             1351 non-null   object \n",
      " 2   year               1351 non-null   int64  \n",
      " 3   number_of_records  1351 non-null   int64  \n",
      " 4   value_actual       1351 non-null   float64\n",
      " 5   value_adjusted     436 non-null    float64\n",
      " 6   units              478 non-null    float64\n",
      "dtypes: float64(3), int64(2), object(2)\n",
      "memory usage: 84.4+ KB\n"
     ]
    }
   ],
   "source": [
    "music_units.info()"
   ]
  },
  {
   "cell_type": "code",
   "execution_count": 75,
   "metadata": {},
   "outputs": [],
   "source": [
    "# elimino columna de 'value adjusted', 'metric', y luego elimino los Nans.\n",
    "\n",
    "music_units.drop(['metric'], axis=1, inplace=True)\n",
    "music_units.drop(['value_adjusted'], axis=1, inplace=True)"
   ]
  },
  {
   "cell_type": "code",
   "execution_count": 76,
   "metadata": {
    "collapsed": true,
    "jupyter": {
     "outputs_hidden": true
    }
   },
   "outputs": [
    {
     "name": "stdout",
     "output_type": "stream",
     "text": [
      "<class 'pandas.core.frame.DataFrame'>\n",
      "Int64Index: 478 entries, 10 to 844\n",
      "Data columns (total 5 columns):\n",
      " #   Column             Non-Null Count  Dtype  \n",
      "---  ------             --------------  -----  \n",
      " 0   format             478 non-null    object \n",
      " 1   year               478 non-null    int64  \n",
      " 2   number_of_records  478 non-null    int64  \n",
      " 3   value_actual       478 non-null    float64\n",
      " 4   units              478 non-null    float64\n",
      "dtypes: float64(2), int64(2), object(1)\n",
      "memory usage: 22.4+ KB\n"
     ]
    }
   ],
   "source": [
    "music_units.dropna(inplace=True)\n",
    "music_units.info()"
   ]
  },
  {
   "cell_type": "code",
   "execution_count": 77,
   "metadata": {},
   "outputs": [],
   "source": [
    "# puedo también eliminar la columna de 'units', ya que sólo me servía para el filtrado:\n",
    "music_units.drop(['units'], axis=1, inplace=True)"
   ]
  },
  {
   "cell_type": "code",
   "execution_count": 78,
   "metadata": {
    "collapsed": true,
    "jupyter": {
     "outputs_hidden": true
    }
   },
   "outputs": [
    {
     "name": "stdout",
     "output_type": "stream",
     "text": [
      "<class 'pandas.core.frame.DataFrame'>\n",
      "Int64Index: 478 entries, 10 to 844\n",
      "Data columns (total 4 columns):\n",
      " #   Column             Non-Null Count  Dtype  \n",
      "---  ------             --------------  -----  \n",
      " 0   format             478 non-null    object \n",
      " 1   year               478 non-null    int64  \n",
      " 2   number_of_records  478 non-null    int64  \n",
      " 3   value_units        478 non-null    float64\n",
      "dtypes: float64(1), int64(2), object(1)\n",
      "memory usage: 18.7+ KB\n"
     ]
    }
   ],
   "source": [
    "# finalmente, a este dataframe, quiero cambiar el nombre de la columna value_actual:\n",
    "\n",
    "music_units.rename({'value_actual':'value_units'}, axis=1, inplace=True)\n",
    "music_units.info()"
   ]
  },
  {
   "cell_type": "code",
   "execution_count": 83,
   "metadata": {},
   "outputs": [
    {
     "data": {
      "text/html": [
       "<div>\n",
       "<style scoped>\n",
       "    .dataframe tbody tr th:only-of-type {\n",
       "        vertical-align: middle;\n",
       "    }\n",
       "\n",
       "    .dataframe tbody tr th {\n",
       "        vertical-align: top;\n",
       "    }\n",
       "\n",
       "    .dataframe thead th {\n",
       "        text-align: right;\n",
       "    }\n",
       "</style>\n",
       "<table border=\"1\" class=\"dataframe\">\n",
       "  <thead>\n",
       "    <tr style=\"text-align: right;\">\n",
       "      <th></th>\n",
       "      <th>format</th>\n",
       "      <th>year</th>\n",
       "      <th>number_of_records</th>\n",
       "      <th>value_units</th>\n",
       "      <th>category</th>\n",
       "      <th>type</th>\n",
       "    </tr>\n",
       "  </thead>\n",
       "  <tbody>\n",
       "    <tr>\n",
       "      <th>0</th>\n",
       "      <td>CD</td>\n",
       "      <td>1983</td>\n",
       "      <td>1</td>\n",
       "      <td>0.8</td>\n",
       "      <td>CD &amp; Singles</td>\n",
       "      <td>Physical</td>\n",
       "    </tr>\n",
       "    <tr>\n",
       "      <th>1</th>\n",
       "      <td>CD</td>\n",
       "      <td>1984</td>\n",
       "      <td>1</td>\n",
       "      <td>5.8</td>\n",
       "      <td>CD &amp; Singles</td>\n",
       "      <td>Physical</td>\n",
       "    </tr>\n",
       "    <tr>\n",
       "      <th>2</th>\n",
       "      <td>CD</td>\n",
       "      <td>1985</td>\n",
       "      <td>1</td>\n",
       "      <td>22.6</td>\n",
       "      <td>CD &amp; Singles</td>\n",
       "      <td>Physical</td>\n",
       "    </tr>\n",
       "    <tr>\n",
       "      <th>3</th>\n",
       "      <td>CD</td>\n",
       "      <td>1986</td>\n",
       "      <td>1</td>\n",
       "      <td>53.0</td>\n",
       "      <td>CD &amp; Singles</td>\n",
       "      <td>Physical</td>\n",
       "    </tr>\n",
       "    <tr>\n",
       "      <th>4</th>\n",
       "      <td>CD</td>\n",
       "      <td>1987</td>\n",
       "      <td>1</td>\n",
       "      <td>102.1</td>\n",
       "      <td>CD &amp; Singles</td>\n",
       "      <td>Physical</td>\n",
       "    </tr>\n",
       "  </tbody>\n",
       "</table>\n",
       "</div>"
      ],
      "text/plain": [
       "  format  year  number_of_records  value_units      category      type\n",
       "0     CD  1983                  1          0.8  CD & Singles  Physical\n",
       "1     CD  1984                  1          5.8  CD & Singles  Physical\n",
       "2     CD  1985                  1         22.6  CD & Singles  Physical\n",
       "3     CD  1986                  1         53.0  CD & Singles  Physical\n",
       "4     CD  1987                  1        102.1  CD & Singles  Physical"
      ]
     },
     "execution_count": 83,
     "metadata": {},
     "output_type": "execute_result"
    }
   ],
   "source": [
    "''' Y ahora el mismo proceso para añadir las columnas de 'category' y 'type'\n",
    "    utilizando las funciones creadas previamente. '''\n",
    "\n",
    "music_units['category'] = music_units['format'].apply(categoria)\n",
    "music_units['type'] = music_units['format'].apply(digital_physical)\n",
    "music_units.head()"
   ]
  },
  {
   "cell_type": "code",
   "execution_count": 84,
   "metadata": {},
   "outputs": [
    {
     "data": {
      "text/html": [
       "<div>\n",
       "<style scoped>\n",
       "    .dataframe tbody tr th:only-of-type {\n",
       "        vertical-align: middle;\n",
       "    }\n",
       "\n",
       "    .dataframe tbody tr th {\n",
       "        vertical-align: top;\n",
       "    }\n",
       "\n",
       "    .dataframe thead th {\n",
       "        text-align: right;\n",
       "    }\n",
       "</style>\n",
       "<table border=\"1\" class=\"dataframe\">\n",
       "  <thead>\n",
       "    <tr style=\"text-align: right;\">\n",
       "      <th></th>\n",
       "      <th>index</th>\n",
       "      <th>format</th>\n",
       "      <th>year</th>\n",
       "      <th>number_of_records</th>\n",
       "      <th>value_units</th>\n",
       "      <th>category</th>\n",
       "      <th>type</th>\n",
       "    </tr>\n",
       "  </thead>\n",
       "  <tbody>\n",
       "    <tr>\n",
       "      <th>0</th>\n",
       "      <td>0</td>\n",
       "      <td>CD</td>\n",
       "      <td>1983</td>\n",
       "      <td>1</td>\n",
       "      <td>0.8</td>\n",
       "      <td>CD &amp; Singles</td>\n",
       "      <td>Physical</td>\n",
       "    </tr>\n",
       "    <tr>\n",
       "      <th>1</th>\n",
       "      <td>1</td>\n",
       "      <td>CD</td>\n",
       "      <td>1984</td>\n",
       "      <td>1</td>\n",
       "      <td>5.8</td>\n",
       "      <td>CD &amp; Singles</td>\n",
       "      <td>Physical</td>\n",
       "    </tr>\n",
       "    <tr>\n",
       "      <th>2</th>\n",
       "      <td>2</td>\n",
       "      <td>CD</td>\n",
       "      <td>1985</td>\n",
       "      <td>1</td>\n",
       "      <td>22.6</td>\n",
       "      <td>CD &amp; Singles</td>\n",
       "      <td>Physical</td>\n",
       "    </tr>\n",
       "    <tr>\n",
       "      <th>3</th>\n",
       "      <td>3</td>\n",
       "      <td>CD</td>\n",
       "      <td>1986</td>\n",
       "      <td>1</td>\n",
       "      <td>53.0</td>\n",
       "      <td>CD &amp; Singles</td>\n",
       "      <td>Physical</td>\n",
       "    </tr>\n",
       "    <tr>\n",
       "      <th>4</th>\n",
       "      <td>4</td>\n",
       "      <td>CD</td>\n",
       "      <td>1987</td>\n",
       "      <td>1</td>\n",
       "      <td>102.1</td>\n",
       "      <td>CD &amp; Singles</td>\n",
       "      <td>Physical</td>\n",
       "    </tr>\n",
       "  </tbody>\n",
       "</table>\n",
       "</div>"
      ],
      "text/plain": [
       "   index format  year  number_of_records  value_units      category      type\n",
       "0      0     CD  1983                  1          0.8  CD & Singles  Physical\n",
       "1      1     CD  1984                  1          5.8  CD & Singles  Physical\n",
       "2      2     CD  1985                  1         22.6  CD & Singles  Physical\n",
       "3      3     CD  1986                  1         53.0  CD & Singles  Physical\n",
       "4      4     CD  1987                  1        102.1  CD & Singles  Physical"
      ]
     },
     "execution_count": 84,
     "metadata": {},
     "output_type": "execute_result"
    }
   ],
   "source": [
    "# reestablezco el index:\n",
    "music_units.reset_index(inplace=True)\n",
    "music_units.head()"
   ]
  },
  {
   "cell_type": "code",
   "execution_count": 85,
   "metadata": {},
   "outputs": [],
   "source": [
    "music_units.drop(['index'], inplace=True, axis=1)"
   ]
  },
  {
   "cell_type": "code",
   "execution_count": 61,
   "metadata": {
    "collapsed": true,
    "jupyter": {
     "outputs_hidden": true
    }
   },
   "outputs": [
    {
     "data": {
      "text/html": [
       "<div>\n",
       "<style scoped>\n",
       "    .dataframe tbody tr th:only-of-type {\n",
       "        vertical-align: middle;\n",
       "    }\n",
       "\n",
       "    .dataframe tbody tr th {\n",
       "        vertical-align: top;\n",
       "    }\n",
       "\n",
       "    .dataframe thead th {\n",
       "        text-align: right;\n",
       "    }\n",
       "</style>\n",
       "<table border=\"1\" class=\"dataframe\">\n",
       "  <thead>\n",
       "    <tr style=\"text-align: right;\">\n",
       "      <th></th>\n",
       "      <th>format</th>\n",
       "      <th>year</th>\n",
       "      <th>number_of_records</th>\n",
       "      <th>value_units</th>\n",
       "      <th>category</th>\n",
       "      <th>type</th>\n",
       "    </tr>\n",
       "  </thead>\n",
       "  <tbody>\n",
       "    <tr>\n",
       "      <th>0</th>\n",
       "      <td>CD</td>\n",
       "      <td>1983</td>\n",
       "      <td>1</td>\n",
       "      <td>0.8</td>\n",
       "      <td>CD &amp; Singles</td>\n",
       "      <td>Physical</td>\n",
       "    </tr>\n",
       "    <tr>\n",
       "      <th>1</th>\n",
       "      <td>CD</td>\n",
       "      <td>1984</td>\n",
       "      <td>1</td>\n",
       "      <td>5.8</td>\n",
       "      <td>CD &amp; Singles</td>\n",
       "      <td>Physical</td>\n",
       "    </tr>\n",
       "    <tr>\n",
       "      <th>2</th>\n",
       "      <td>CD</td>\n",
       "      <td>1985</td>\n",
       "      <td>1</td>\n",
       "      <td>22.6</td>\n",
       "      <td>CD &amp; Singles</td>\n",
       "      <td>Physical</td>\n",
       "    </tr>\n",
       "    <tr>\n",
       "      <th>3</th>\n",
       "      <td>CD</td>\n",
       "      <td>1986</td>\n",
       "      <td>1</td>\n",
       "      <td>53.0</td>\n",
       "      <td>CD &amp; Singles</td>\n",
       "      <td>Physical</td>\n",
       "    </tr>\n",
       "    <tr>\n",
       "      <th>4</th>\n",
       "      <td>CD</td>\n",
       "      <td>1987</td>\n",
       "      <td>1</td>\n",
       "      <td>102.1</td>\n",
       "      <td>CD &amp; Singles</td>\n",
       "      <td>Physical</td>\n",
       "    </tr>\n",
       "  </tbody>\n",
       "</table>\n",
       "</div>"
      ],
      "text/plain": [
       "  format  year  number_of_records  value_units      category      type\n",
       "0     CD  1983                  1          0.8  CD & Singles  Physical\n",
       "1     CD  1984                  1          5.8  CD & Singles  Physical\n",
       "2     CD  1985                  1         22.6  CD & Singles  Physical\n",
       "3     CD  1986                  1         53.0  CD & Singles  Physical\n",
       "4     CD  1987                  1        102.1  CD & Singles  Physical"
      ]
     },
     "execution_count": 61,
     "metadata": {},
     "output_type": "execute_result"
    }
   ],
   "source": [
    "music_units.head()"
   ]
  },
  {
   "cell_type": "code",
   "execution_count": 86,
   "metadata": {},
   "outputs": [
    {
     "data": {
      "text/plain": [
       "array(['CD', 'CD Single', 'Cassette', 'Cassette Single', 'LP/EP',\n",
       "       'Vinyl Single', '8 - Track', 'Other Tapes',\n",
       "       'Music Video (Physical)', 'DVD Audio', 'SACD', 'Download Single',\n",
       "       'Download Album', 'Kiosk', 'Download Music Video',\n",
       "       'Ringtones & Ringbacks', 'Paid Subscriptions'], dtype=object)"
      ]
     },
     "execution_count": 86,
     "metadata": {},
     "output_type": "execute_result"
    }
   ],
   "source": [
    "music_units['format'].unique()"
   ]
  },
  {
   "cell_type": "code",
   "execution_count": 87,
   "metadata": {},
   "outputs": [
    {
     "data": {
      "text/plain": [
       "array(['CD & Singles', 'Cassettes & Tapes', 'Vinyl', 'DVDs', 'Downloads',\n",
       "       'Streaming Subscriptions'], dtype=object)"
      ]
     },
     "execution_count": 87,
     "metadata": {},
     "output_type": "execute_result"
    }
   ],
   "source": [
    "music_units['category'].unique()"
   ]
  },
  {
   "cell_type": "markdown",
   "metadata": {},
   "source": [
    "### HABIENDO CREANDO LOS 3 DATASETS POR SEPARADO, PUEDO EMPEZAR A HACER LOS GRÁFICOS QUE ME INTERESAN DE ESTOS DATOS."
   ]
  },
  {
   "cell_type": "markdown",
   "metadata": {},
   "source": [
    "# 2. GRÁFICOS\n",
    "\n",
    "Para los gráficos, seguiré este orden:\n",
    "\n",
    "**2.1 Dataframe de Music Values vs. Music Revenues**\n",
    "\n",
    "**2.2 Dataframe de Music Units**"
   ]
  },
  {
   "cell_type": "markdown",
   "metadata": {},
   "source": [
    "### 2.1 Music Values vs. Music Revenues"
   ]
  },
  {
   "cell_type": "markdown",
   "metadata": {},
   "source": [
    "Gráfico de ingresos (sin inflación) por categorías:"
   ]
  },
  {
   "cell_type": "code",
   "execution_count": 49,
   "metadata": {
    "collapsed": true,
    "jupyter": {
     "outputs_hidden": true
    }
   },
   "outputs": [
    {
     "data": {
      "image/png": "[encoded data removed]",
      "text/plain": [
       "<Figure size 1296x720 with 1 Axes>"
      ]
     },
     "metadata": {
      "needs_background": "light"
     },
     "output_type": "display_data"
    }
   ],
   "source": [
    "# me creo un dataframe agrupado por categorías x año:\n",
    "# y hago una suma del valor real para representarlo.\n",
    "\n",
    "values_group = music_revenues.groupby(['year', 'category'])['value_actual'].sum().unstack('category').fillna(0)\n",
    "from matplotlib import cm\n",
    "from itertools import cycle, islice\n",
    "\n",
    "colors = list(islice(cycle(['#0000CD', '#90EE90', '#2E8B57', '#3CB371', '#708090', '#4682B4', \n",
    "             '#87CEFA', '#6495ED', '#66CDAA']), None, len(values_group)))\n",
    "\n",
    "values_group.plot(kind='bar', stacked=True, \n",
    "          color=colors, figsize=(18,10));"
   ]
  },
  {
   "cell_type": "markdown",
   "metadata": {},
   "source": [
    "Gráfico de ingresos con el valor ajustado, por categorías:"
   ]
  },
  {
   "cell_type": "code",
   "execution_count": 46,
   "metadata": {
    "collapsed": true,
    "jupyter": {
     "outputs_hidden": true
    }
   },
   "outputs": [
    {
     "data": {
      "image/png": "[encoded data removed]",
      "text/plain": [
       "<Figure size 1296x720 with 1 Axes>"
      ]
     },
     "metadata": {
      "needs_background": "light"
     },
     "output_type": "display_data"
    }
   ],
   "source": [
    "# me creo un dataframe agrupado por categorías x año:\n",
    "# y hago una suma del valor total para representarlo.\n",
    "\n",
    "revenues_group = music_revenues.groupby(['year', 'category'])['value_actual'].sum().unstack('category').fillna(0)\n",
    "from matplotlib import cm\n",
    "from itertools import cycle, islice\n",
    "\n",
    "colors = list(islice(cycle(['#0000CD', '#90EE90', '#2E8B57', '#3CB371', '#708090', '#4682B4', \n",
    "             '#87CEFA', '#6495ED', '#66CDAA']), None, len(revenues_group)))\n",
    "\n",
    "revenues_group.plot(kind='bar', stacked=True, \n",
    "          color=colors, figsize=(18,10));"
   ]
  },
  {
   "cell_type": "code",
   "execution_count": 158,
   "metadata": {
    "collapsed": true,
    "jupyter": {
     "outputs_hidden": true
    }
   },
   "outputs": [
    {
     "data": {
      "image/png": "[encoded data removed]",
      "text/plain": [
       "<Figure size 1008x648 with 1 Axes>"
      ]
     },
     "metadata": {},
     "output_type": "display_data"
    }
   ],
   "source": [
    "# representación visual de los formatos Physical y Digital:\n",
    "\n",
    "import seaborn as sns\n",
    "import matplotlib as mpl\n",
    "import matplotlib.pyplot as plt\n",
    "\n",
    "sns.set_theme(style=\"ticks\")\n",
    "\n",
    "\n",
    "f, ax = plt.subplots(figsize=(14, 9))\n",
    "sns.despine(f)\n",
    "\n",
    "sns.histplot(\n",
    "    data=music_revenues,\n",
    "    x=\"year\", hue=\"type\",\n",
    "    multiple=\"stack\",\n",
    "    palette=\"light:b\",\n",
    "    edgecolor=\".3\",\n",
    "    linewidth=.5,\n",
    "    log_scale=False,\n",
    ");"
   ]
  },
  {
   "cell_type": "markdown",
   "metadata": {},
   "source": [
    "### 2.2 Music Units"
   ]
  },
  {
   "cell_type": "markdown",
   "metadata": {},
   "source": [
    "En cuanto a las unidades vendidas de vinilos, quiero crear los siguientes gráficos:\n",
    "- Gráfico stacked bar agrupado por categorías\n",
    "- Gráfico por variable Digital y Physical de manera lineal."
   ]
  },
  {
   "cell_type": "code",
   "execution_count": 115,
   "metadata": {
    "collapsed": true,
    "jupyter": {
     "outputs_hidden": true
    }
   },
   "outputs": [
    {
     "data": {
      "image/png": "[encoded data removed]",
      "text/plain": [
       "<Figure size 1296x720 with 1 Axes>"
      ]
     },
     "metadata": {},
     "output_type": "display_data"
    }
   ],
   "source": [
    "''' Al comprobar el gráfico, faltan muchos datos en cuando a unidades, así que \n",
    "    nuevamente utilicé el dataframe de music_revenues '''\n",
    "\n",
    "revenues_group = music_revenues.groupby(['year', 'type'])['value_actual'].sum().unstack('type').fillna(0)\n",
    "from matplotlib import cm\n",
    "from itertools import cycle, islice\n",
    "\n",
    "colors = list(islice(cycle(['#6495ED', '#90EE90']), None, len(revenues_group)))\n",
    "\n",
    "revenues_group.plot(kind='bar', stacked=True, \n",
    "          color=colors, figsize=(18,10));\n"
   ]
  },
  {
   "cell_type": "code",
   "execution_count": 94,
   "metadata": {
    "collapsed": true,
    "jupyter": {
     "outputs_hidden": true
    }
   },
   "outputs": [
    {
     "data": {
      "image/png": "[encoded data removed]",
      "text/plain": [
       "<Figure size 432x288 with 1 Axes>"
      ]
     },
     "metadata": {},
     "output_type": "display_data"
    }
   ],
   "source": [
    "sns.set_theme(style=\"darkgrid\")\n",
    "\n",
    "# Plot the responses for different events and regions\n",
    "sns.lineplot(x=\"year\", y=\"value_units\",\n",
    "             hue=\"type\",\n",
    "             data=music_units);"
   ]
  },
  {
   "cell_type": "code",
   "execution_count": 163,
   "metadata": {},
   "outputs": [
    {
     "data": {
      "image/png": "[encoded data removed]",
      "text/plain": [
       "<Figure size 648x504 with 1 Axes>"
      ]
     },
     "metadata": {},
     "output_type": "display_data"
    }
   ],
   "source": [
    "colors = ['#90EE90', '#6495ED']\n",
    "revenues_group.plot(figsize=(9,7), color=colors, linewidth=2.5);"
   ]
  },
  {
   "cell_type": "markdown",
   "metadata": {},
   "source": [
    "**Creo un gráfico similar al primero para contrastar la diferencia entre el valor ajustado a la inflación, con las unidades vendidas por formato** \n",
    "\n",
    "Cambia bastante el panorama.  Ya que actualemente la producción y la distribución de música, es infinitamente mayor.  Por lo tanto, el consumo en unidades se dispara."
   ]
  },
  {
   "cell_type": "markdown",
   "metadata": {},
   "source": [
    "Creando gráficos de unidades separados por Physical y Digital."
   ]
  },
  {
   "cell_type": "markdown",
   "metadata": {},
   "source": [
    "## Creando un dataset para analizar los vinilos: "
   ]
  },
  {
   "cell_type": "code",
   "execution_count": 117,
   "metadata": {},
   "outputs": [],
   "source": [
    "# me creo una copia de ambos datasets:\n",
    "\n",
    "vinyl_values = music_revenues.copy()\n",
    "vinyl_units = music_units.copy()"
   ]
  },
  {
   "cell_type": "code",
   "execution_count": 118,
   "metadata": {},
   "outputs": [],
   "source": [
    "# me creo una función para poder filtrar los vinilos.\n",
    "\n",
    "def vinyl_only(category):\n",
    "    if category == 'Vinyl':\n",
    "        return 1\n",
    "\n",
    "# me creo una columna en cada dataset para filtrarlos:\n",
    "vinyl_values['vinyl'] = vinyl_values['category'].apply(vinyl_only)\n",
    "vinyl_units['vinyl'] = vinyl_units['category'].apply(vinyl_only)"
   ]
  },
  {
   "cell_type": "code",
   "execution_count": 138,
   "metadata": {
    "collapsed": true,
    "jupyter": {
     "outputs_hidden": true,
     "source_hidden": true
    }
   },
   "outputs": [
    {
     "name": "stdout",
     "output_type": "stream",
     "text": [
      "<class 'pandas.core.frame.DataFrame'>\n",
      "Int64Index: 94 entries, 258 to 435\n",
      "Data columns (total 7 columns):\n",
      " #   Column             Non-Null Count  Dtype  \n",
      "---  ------             --------------  -----  \n",
      " 0   format             94 non-null     object \n",
      " 1   year               94 non-null     int64  \n",
      " 2   number_of_records  94 non-null     int64  \n",
      " 3   value_actual       94 non-null     float64\n",
      " 4   category           94 non-null     object \n",
      " 5   type               94 non-null     object \n",
      " 6   vinyl              94 non-null     float64\n",
      "dtypes: float64(2), int64(2), object(3)\n",
      "memory usage: 5.9+ KB\n"
     ]
    }
   ],
   "source": [
    "# elimino los nans para quedarme sólo con los vinilos:\n",
    "vinyl_values.dropna(inplace=True)\n",
    "vinyl_values.info()"
   ]
  },
  {
   "cell_type": "code",
   "execution_count": 119,
   "metadata": {
    "collapsed": true,
    "jupyter": {
     "outputs_hidden": true
    }
   },
   "outputs": [
    {
     "name": "stdout",
     "output_type": "stream",
     "text": [
      "<class 'pandas.core.frame.DataFrame'>\n",
      "Int64Index: 94 entries, 133 to 226\n",
      "Data columns (total 7 columns):\n",
      " #   Column             Non-Null Count  Dtype  \n",
      "---  ------             --------------  -----  \n",
      " 0   format             94 non-null     object \n",
      " 1   year               94 non-null     int64  \n",
      " 2   number_of_records  94 non-null     int64  \n",
      " 3   value_units        94 non-null     float64\n",
      " 4   category           94 non-null     object \n",
      " 5   type               94 non-null     object \n",
      " 6   vinyl              94 non-null     float64\n",
      "dtypes: float64(2), int64(2), object(3)\n",
      "memory usage: 5.9+ KB\n"
     ]
    }
   ],
   "source": [
    "vinyl_units.dropna(inplace=True)\n",
    "vinyl_units.info()"
   ]
  },
  {
   "cell_type": "code",
   "execution_count": 120,
   "metadata": {},
   "outputs": [],
   "source": [
    "# y elimino la columna de 'vinyl', 'category', y 'type' que no son necesarias:\n",
    "\n",
    "vinyl_units.drop(vinyl_units[['type', 'category']], axis=1, inplace=True)\n",
    "vinyl_values.drop(vinyl_values[['type', 'category']], axis=1, inplace=True)"
   ]
  },
  {
   "cell_type": "code",
   "execution_count": 121,
   "metadata": {
    "collapsed": true,
    "jupyter": {
     "outputs_hidden": true
    }
   },
   "outputs": [
    {
     "data": {
      "text/html": [
       "<div>\n",
       "<style scoped>\n",
       "    .dataframe tbody tr th:only-of-type {\n",
       "        vertical-align: middle;\n",
       "    }\n",
       "\n",
       "    .dataframe tbody tr th {\n",
       "        vertical-align: top;\n",
       "    }\n",
       "\n",
       "    .dataframe thead th {\n",
       "        text-align: right;\n",
       "    }\n",
       "</style>\n",
       "<table border=\"1\" class=\"dataframe\">\n",
       "  <thead>\n",
       "    <tr style=\"text-align: right;\">\n",
       "      <th></th>\n",
       "      <th>format</th>\n",
       "      <th>year</th>\n",
       "      <th>number_of_records</th>\n",
       "      <th>value_units</th>\n",
       "      <th>vinyl</th>\n",
       "    </tr>\n",
       "  </thead>\n",
       "  <tbody>\n",
       "    <tr>\n",
       "      <th>0</th>\n",
       "      <td>LP/EP</td>\n",
       "      <td>1973</td>\n",
       "      <td>1</td>\n",
       "      <td>280.0</td>\n",
       "      <td>1.0</td>\n",
       "    </tr>\n",
       "    <tr>\n",
       "      <th>1</th>\n",
       "      <td>LP/EP</td>\n",
       "      <td>1974</td>\n",
       "      <td>1</td>\n",
       "      <td>276.0</td>\n",
       "      <td>1.0</td>\n",
       "    </tr>\n",
       "    <tr>\n",
       "      <th>2</th>\n",
       "      <td>LP/EP</td>\n",
       "      <td>1975</td>\n",
       "      <td>1</td>\n",
       "      <td>257.0</td>\n",
       "      <td>1.0</td>\n",
       "    </tr>\n",
       "    <tr>\n",
       "      <th>3</th>\n",
       "      <td>LP/EP</td>\n",
       "      <td>1976</td>\n",
       "      <td>1</td>\n",
       "      <td>273.0</td>\n",
       "      <td>1.0</td>\n",
       "    </tr>\n",
       "    <tr>\n",
       "      <th>4</th>\n",
       "      <td>LP/EP</td>\n",
       "      <td>1977</td>\n",
       "      <td>1</td>\n",
       "      <td>344.0</td>\n",
       "      <td>1.0</td>\n",
       "    </tr>\n",
       "  </tbody>\n",
       "</table>\n",
       "</div>"
      ],
      "text/plain": [
       "  format  year  number_of_records  value_units  vinyl\n",
       "0  LP/EP  1973                  1        280.0    1.0\n",
       "1  LP/EP  1974                  1        276.0    1.0\n",
       "2  LP/EP  1975                  1        257.0    1.0\n",
       "3  LP/EP  1976                  1        273.0    1.0\n",
       "4  LP/EP  1977                  1        344.0    1.0"
      ]
     },
     "execution_count": 121,
     "metadata": {},
     "output_type": "execute_result"
    }
   ],
   "source": [
    "vinyl_units.reset_index(inplace=True)\n",
    "vinyl_units.drop(['index'], axis=1, inplace=True)\n",
    "vinyl_units.head()"
   ]
  },
  {
   "cell_type": "code",
   "execution_count": 122,
   "metadata": {
    "collapsed": true,
    "jupyter": {
     "outputs_hidden": true
    }
   },
   "outputs": [
    {
     "data": {
      "text/html": [
       "<div>\n",
       "<style scoped>\n",
       "    .dataframe tbody tr th:only-of-type {\n",
       "        vertical-align: middle;\n",
       "    }\n",
       "\n",
       "    .dataframe tbody tr th {\n",
       "        vertical-align: top;\n",
       "    }\n",
       "\n",
       "    .dataframe thead th {\n",
       "        text-align: right;\n",
       "    }\n",
       "</style>\n",
       "<table border=\"1\" class=\"dataframe\">\n",
       "  <thead>\n",
       "    <tr style=\"text-align: right;\">\n",
       "      <th></th>\n",
       "      <th>format</th>\n",
       "      <th>year</th>\n",
       "      <th>number_of_records</th>\n",
       "      <th>value_units</th>\n",
       "      <th>vinyl</th>\n",
       "    </tr>\n",
       "  </thead>\n",
       "  <tbody>\n",
       "    <tr>\n",
       "      <th>0</th>\n",
       "      <td>LP/EP</td>\n",
       "      <td>1973</td>\n",
       "      <td>1</td>\n",
       "      <td>280.0</td>\n",
       "      <td>1.0</td>\n",
       "    </tr>\n",
       "    <tr>\n",
       "      <th>1</th>\n",
       "      <td>LP/EP</td>\n",
       "      <td>1974</td>\n",
       "      <td>1</td>\n",
       "      <td>276.0</td>\n",
       "      <td>1.0</td>\n",
       "    </tr>\n",
       "    <tr>\n",
       "      <th>2</th>\n",
       "      <td>LP/EP</td>\n",
       "      <td>1975</td>\n",
       "      <td>1</td>\n",
       "      <td>257.0</td>\n",
       "      <td>1.0</td>\n",
       "    </tr>\n",
       "    <tr>\n",
       "      <th>3</th>\n",
       "      <td>LP/EP</td>\n",
       "      <td>1976</td>\n",
       "      <td>1</td>\n",
       "      <td>273.0</td>\n",
       "      <td>1.0</td>\n",
       "    </tr>\n",
       "    <tr>\n",
       "      <th>4</th>\n",
       "      <td>LP/EP</td>\n",
       "      <td>1977</td>\n",
       "      <td>1</td>\n",
       "      <td>344.0</td>\n",
       "      <td>1.0</td>\n",
       "    </tr>\n",
       "  </tbody>\n",
       "</table>\n",
       "</div>"
      ],
      "text/plain": [
       "  format  year  number_of_records  value_units  vinyl\n",
       "0  LP/EP  1973                  1        280.0    1.0\n",
       "1  LP/EP  1974                  1        276.0    1.0\n",
       "2  LP/EP  1975                  1        257.0    1.0\n",
       "3  LP/EP  1976                  1        273.0    1.0\n",
       "4  LP/EP  1977                  1        344.0    1.0"
      ]
     },
     "execution_count": 122,
     "metadata": {},
     "output_type": "execute_result"
    }
   ],
   "source": [
    "vinyl_units.head()"
   ]
  },
  {
   "cell_type": "code",
   "execution_count": 124,
   "metadata": {},
   "outputs": [],
   "source": [
    "''' Creando un grupo de valores de unidades de vinilo vendidas, \n",
    "    para realizar un treemap'''\n",
    "\n",
    "# me creo una serie con los valores agrupados por año y la suma de unidades:\n",
    "\n",
    "group_vinyl = vinyl_units.groupby(['year', 'vinyl'])['value_units'].sum()"
   ]
  },
  {
   "cell_type": "code",
   "execution_count": 125,
   "metadata": {
    "collapsed": true,
    "jupyter": {
     "outputs_hidden": true
    }
   },
   "outputs": [
    {
     "data": {
      "text/html": [
       "<div>\n",
       "<style scoped>\n",
       "    .dataframe tbody tr th:only-of-type {\n",
       "        vertical-align: middle;\n",
       "    }\n",
       "\n",
       "    .dataframe tbody tr th {\n",
       "        vertical-align: top;\n",
       "    }\n",
       "\n",
       "    .dataframe thead th {\n",
       "        text-align: right;\n",
       "    }\n",
       "</style>\n",
       "<table border=\"1\" class=\"dataframe\">\n",
       "  <thead>\n",
       "    <tr style=\"text-align: right;\">\n",
       "      <th></th>\n",
       "      <th></th>\n",
       "      <th>value_units</th>\n",
       "    </tr>\n",
       "    <tr>\n",
       "      <th>year</th>\n",
       "      <th>vinyl</th>\n",
       "      <th></th>\n",
       "    </tr>\n",
       "  </thead>\n",
       "  <tbody>\n",
       "    <tr>\n",
       "      <th>1973</th>\n",
       "      <th>1.0</th>\n",
       "      <td>508.0</td>\n",
       "    </tr>\n",
       "    <tr>\n",
       "      <th>1974</th>\n",
       "      <th>1.0</th>\n",
       "      <td>480.0</td>\n",
       "    </tr>\n",
       "    <tr>\n",
       "      <th>1975</th>\n",
       "      <th>1.0</th>\n",
       "      <td>421.0</td>\n",
       "    </tr>\n",
       "    <tr>\n",
       "      <th>1976</th>\n",
       "      <th>1.0</th>\n",
       "      <td>463.0</td>\n",
       "    </tr>\n",
       "    <tr>\n",
       "      <th>1977</th>\n",
       "      <th>1.0</th>\n",
       "      <td>534.0</td>\n",
       "    </tr>\n",
       "  </tbody>\n",
       "</table>\n",
       "</div>"
      ],
      "text/plain": [
       "            value_units\n",
       "year vinyl             \n",
       "1973 1.0          508.0\n",
       "1974 1.0          480.0\n",
       "1975 1.0          421.0\n",
       "1976 1.0          463.0\n",
       "1977 1.0          534.0"
      ]
     },
     "execution_count": 125,
     "metadata": {},
     "output_type": "execute_result"
    }
   ],
   "source": [
    "# lo pasa a dataframe:\n",
    "vinyl_df = pd.DataFrame(group_vinyl)\n",
    "vinyl_df.head()"
   ]
  },
  {
   "cell_type": "code",
   "execution_count": 126,
   "metadata": {
    "collapsed": true,
    "jupyter": {
     "outputs_hidden": true
    }
   },
   "outputs": [
    {
     "data": {
      "text/html": [
       "<div>\n",
       "<style scoped>\n",
       "    .dataframe tbody tr th:only-of-type {\n",
       "        vertical-align: middle;\n",
       "    }\n",
       "\n",
       "    .dataframe tbody tr th {\n",
       "        vertical-align: top;\n",
       "    }\n",
       "\n",
       "    .dataframe thead th {\n",
       "        text-align: right;\n",
       "    }\n",
       "</style>\n",
       "<table border=\"1\" class=\"dataframe\">\n",
       "  <thead>\n",
       "    <tr style=\"text-align: right;\">\n",
       "      <th></th>\n",
       "      <th>year</th>\n",
       "      <th>vinyl</th>\n",
       "      <th>value_units</th>\n",
       "    </tr>\n",
       "  </thead>\n",
       "  <tbody>\n",
       "    <tr>\n",
       "      <th>0</th>\n",
       "      <td>1973</td>\n",
       "      <td>1.0</td>\n",
       "      <td>508.0</td>\n",
       "    </tr>\n",
       "    <tr>\n",
       "      <th>1</th>\n",
       "      <td>1974</td>\n",
       "      <td>1.0</td>\n",
       "      <td>480.0</td>\n",
       "    </tr>\n",
       "    <tr>\n",
       "      <th>2</th>\n",
       "      <td>1975</td>\n",
       "      <td>1.0</td>\n",
       "      <td>421.0</td>\n",
       "    </tr>\n",
       "    <tr>\n",
       "      <th>3</th>\n",
       "      <td>1976</td>\n",
       "      <td>1.0</td>\n",
       "      <td>463.0</td>\n",
       "    </tr>\n",
       "    <tr>\n",
       "      <th>4</th>\n",
       "      <td>1977</td>\n",
       "      <td>1.0</td>\n",
       "      <td>534.0</td>\n",
       "    </tr>\n",
       "  </tbody>\n",
       "</table>\n",
       "</div>"
      ],
      "text/plain": [
       "   year  vinyl  value_units\n",
       "0  1973    1.0        508.0\n",
       "1  1974    1.0        480.0\n",
       "2  1975    1.0        421.0\n",
       "3  1976    1.0        463.0\n",
       "4  1977    1.0        534.0"
      ]
     },
     "execution_count": 126,
     "metadata": {},
     "output_type": "execute_result"
    }
   ],
   "source": [
    "vinyl_df.reset_index(inplace=True)\n",
    "vinyl_df.head()"
   ]
  },
  {
   "cell_type": "code",
   "execution_count": 127,
   "metadata": {},
   "outputs": [
    {
     "data": {
      "text/html": [
       "<div>\n",
       "<style scoped>\n",
       "    .dataframe tbody tr th:only-of-type {\n",
       "        vertical-align: middle;\n",
       "    }\n",
       "\n",
       "    .dataframe tbody tr th {\n",
       "        vertical-align: top;\n",
       "    }\n",
       "\n",
       "    .dataframe thead th {\n",
       "        text-align: right;\n",
       "    }\n",
       "</style>\n",
       "<table border=\"1\" class=\"dataframe\">\n",
       "  <thead>\n",
       "    <tr style=\"text-align: right;\">\n",
       "      <th></th>\n",
       "      <th>year</th>\n",
       "      <th>value_units</th>\n",
       "    </tr>\n",
       "  </thead>\n",
       "  <tbody>\n",
       "    <tr>\n",
       "      <th>0</th>\n",
       "      <td>1973</td>\n",
       "      <td>508.0</td>\n",
       "    </tr>\n",
       "    <tr>\n",
       "      <th>1</th>\n",
       "      <td>1974</td>\n",
       "      <td>480.0</td>\n",
       "    </tr>\n",
       "    <tr>\n",
       "      <th>2</th>\n",
       "      <td>1975</td>\n",
       "      <td>421.0</td>\n",
       "    </tr>\n",
       "    <tr>\n",
       "      <th>3</th>\n",
       "      <td>1976</td>\n",
       "      <td>463.0</td>\n",
       "    </tr>\n",
       "    <tr>\n",
       "      <th>4</th>\n",
       "      <td>1977</td>\n",
       "      <td>534.0</td>\n",
       "    </tr>\n",
       "  </tbody>\n",
       "</table>\n",
       "</div>"
      ],
      "text/plain": [
       "   year  value_units\n",
       "0  1973        508.0\n",
       "1  1974        480.0\n",
       "2  1975        421.0\n",
       "3  1976        463.0\n",
       "4  1977        534.0"
      ]
     },
     "execution_count": 127,
     "metadata": {},
     "output_type": "execute_result"
    }
   ],
   "source": [
    "vinyl_df.drop(['vinyl'], axis=1, inplace=True)\n",
    "vinyl_df.head()"
   ]
  },
  {
   "cell_type": "code",
   "execution_count": 138,
   "metadata": {
    "collapsed": true,
    "jupyter": {
     "outputs_hidden": true
    }
   },
   "outputs": [
    {
     "data": {
      "image/png": "[encoded data removed]",
      "text/plain": [
       "<Figure size 1152x576 with 1 Axes>"
      ]
     },
     "metadata": {},
     "output_type": "display_data"
    }
   ],
   "source": [
    "import matplotlib\n",
    "import squarify\n",
    "\n",
    "# voy a hacer 1 treemap de los últimos 10 años para ver el incremento de ventas:\n",
    "vinyl_df_2 = vinyl_df[vinyl_df['year']>2008]\n",
    "\n",
    "\n",
    "norm = matplotlib.colors.Normalize(vmin=min(vinyl_df_2.value_units), vmax=max(vinyl_df_2.value_units))\n",
    "colors = [matplotlib.cm.Greens(norm(value)) for value in vinyl_df_2.value_units]\n",
    "\n",
    "\n",
    "# Creamos el plot y definimos el tamaño.\n",
    "fig = plt.gcf()\n",
    "ax = fig.add_subplot()\n",
    "fig.set_size_inches(16, 8)\n",
    "\n",
    "# Usamos squarify para los datos, poner un título y especifcar diseño.\n",
    "squarify.plot(label=vinyl_df_2.year, sizes=vinyl_df_2.value_units, color = colors, alpha=.7)\n",
    "plt.title(\"UNIDADES VENDIDAS EN LA ÚLTIMA DÉCADA\",fontsize=17,fontweight=\"light\")\n",
    "\n",
    "# Quitar axes\n",
    "plt.axis('off')\n",
    "plt.show()"
   ]
  },
  {
   "cell_type": "code",
   "execution_count": 139,
   "metadata": {},
   "outputs": [
    {
     "data": {
      "text/plain": [
       "<Figure size 432x288 with 0 Axes>"
      ]
     },
     "metadata": {},
     "output_type": "display_data"
    }
   ],
   "source": [
    "# exportando a png:\n",
    "plt.savefig('vinyl_sales.png')\n"
   ]
  },
  {
   "cell_type": "code",
   "execution_count": 177,
   "metadata": {},
   "outputs": [
    {
     "data": {
      "image/png": "[encoded data removed]",
      "text/plain": [
       "<Figure size 432x288 with 1 Axes>"
      ]
     },
     "metadata": {},
     "output_type": "display_data"
    }
   ],
   "source": [
    "sns.set_theme(style=\"darkgrid\")\n",
    "\n",
    "# Plot the responses for different events and regions\n",
    "sns.lineplot(x=\"year\", y=\"value_units\",\n",
    "             data=vinyl_df_2,\n",
    "             color='lightgreen', linewidth=2.5);"
   ]
  },
  {
   "cell_type": "markdown",
   "metadata": {},
   "source": [
    "#### Suma de ingresos con el valor ajustado por 'Categoría' de formato."
   ]
  },
  {
   "cell_type": "code",
   "execution_count": 17,
   "metadata": {
    "collapsed": true,
    "jupyter": {
     "outputs_hidden": true
    }
   },
   "outputs": [
    {
     "data": {
      "text/html": [
       "<div>\n",
       "<style scoped>\n",
       "    .dataframe tbody tr th:only-of-type {\n",
       "        vertical-align: middle;\n",
       "    }\n",
       "\n",
       "    .dataframe tbody tr th {\n",
       "        vertical-align: top;\n",
       "    }\n",
       "\n",
       "    .dataframe thead th {\n",
       "        text-align: right;\n",
       "    }\n",
       "</style>\n",
       "<table border=\"1\" class=\"dataframe\">\n",
       "  <thead>\n",
       "    <tr style=\"text-align: right;\">\n",
       "      <th></th>\n",
       "      <th>format</th>\n",
       "      <th>year</th>\n",
       "      <th>number_of_records</th>\n",
       "      <th>value_actual</th>\n",
       "      <th>category</th>\n",
       "      <th>type</th>\n",
       "    </tr>\n",
       "  </thead>\n",
       "  <tbody>\n",
       "    <tr>\n",
       "      <th>0</th>\n",
       "      <td>8 - Track</td>\n",
       "      <td>1973</td>\n",
       "      <td>1</td>\n",
       "      <td>2815.681824</td>\n",
       "      <td>Cassettes &amp; Tapes</td>\n",
       "      <td>Physical</td>\n",
       "    </tr>\n",
       "    <tr>\n",
       "      <th>1</th>\n",
       "      <td>8 - Track</td>\n",
       "      <td>1974</td>\n",
       "      <td>1</td>\n",
       "      <td>2848.008609</td>\n",
       "      <td>Cassettes &amp; Tapes</td>\n",
       "      <td>Physical</td>\n",
       "    </tr>\n",
       "    <tr>\n",
       "      <th>2</th>\n",
       "      <td>8 - Track</td>\n",
       "      <td>1975</td>\n",
       "      <td>1</td>\n",
       "      <td>2770.409498</td>\n",
       "      <td>Cassettes &amp; Tapes</td>\n",
       "      <td>Physical</td>\n",
       "    </tr>\n",
       "    <tr>\n",
       "      <th>3</th>\n",
       "      <td>8 - Track</td>\n",
       "      <td>1976</td>\n",
       "      <td>1</td>\n",
       "      <td>3047.215772</td>\n",
       "      <td>Cassettes &amp; Tapes</td>\n",
       "      <td>Physical</td>\n",
       "    </tr>\n",
       "    <tr>\n",
       "      <th>4</th>\n",
       "      <td>8 - Track</td>\n",
       "      <td>1977</td>\n",
       "      <td>1</td>\n",
       "      <td>3421.416287</td>\n",
       "      <td>Cassettes &amp; Tapes</td>\n",
       "      <td>Physical</td>\n",
       "    </tr>\n",
       "  </tbody>\n",
       "</table>\n",
       "</div>"
      ],
      "text/plain": [
       "      format  year  number_of_records  value_actual           category  \\\n",
       "0  8 - Track  1973                  1   2815.681824  Cassettes & Tapes   \n",
       "1  8 - Track  1974                  1   2848.008609  Cassettes & Tapes   \n",
       "2  8 - Track  1975                  1   2770.409498  Cassettes & Tapes   \n",
       "3  8 - Track  1976                  1   3047.215772  Cassettes & Tapes   \n",
       "4  8 - Track  1977                  1   3421.416287  Cassettes & Tapes   \n",
       "\n",
       "       type  \n",
       "0  Physical  \n",
       "1  Physical  \n",
       "2  Physical  \n",
       "3  Physical  \n",
       "4  Physical  "
      ]
     },
     "execution_count": 17,
     "metadata": {},
     "output_type": "execute_result"
    }
   ],
   "source": [
    "# Sacando la media de ventas de 'Cassettes & Tapes'\n",
    "group_cassette = music_revenues.copy()\n",
    "group_cassette.head()"
   ]
  },
  {
   "cell_type": "code",
   "execution_count": 18,
   "metadata": {},
   "outputs": [],
   "source": [
    "group_cassette = group_cassette[group_cassette['category']=='Cassettes & Tapes']"
   ]
  },
  {
   "cell_type": "code",
   "execution_count": 19,
   "metadata": {
    "collapsed": true,
    "jupyter": {
     "outputs_hidden": true,
     "source_hidden": true
    }
   },
   "outputs": [
    {
     "name": "stdout",
     "output_type": "stream",
     "text": [
      "<class 'pandas.core.frame.DataFrame'>\n",
      "Int64Index: 66 entries, 0 to 314\n",
      "Data columns (total 6 columns):\n",
      " #   Column             Non-Null Count  Dtype  \n",
      "---  ------             --------------  -----  \n",
      " 0   format             66 non-null     object \n",
      " 1   year               66 non-null     int64  \n",
      " 2   number_of_records  66 non-null     int64  \n",
      " 3   value_actual       66 non-null     float64\n",
      " 4   category           66 non-null     object \n",
      " 5   type               66 non-null     object \n",
      "dtypes: float64(1), int64(2), object(3)\n",
      "memory usage: 3.6+ KB\n"
     ]
    }
   ],
   "source": [
    "group_cassette.info()"
   ]
  },
  {
   "cell_type": "code",
   "execution_count": 21,
   "metadata": {},
   "outputs": [
    {
     "data": {
      "text/plain": [
       "1975.1494912803937"
      ]
     },
     "execution_count": 21,
     "metadata": {},
     "output_type": "execute_result"
    }
   ],
   "source": [
    "group_cassette['value_actual'].mean()"
   ]
  },
  {
   "cell_type": "code",
   "execution_count": 23,
   "metadata": {
    "collapsed": true,
    "jupyter": {
     "outputs_hidden": true
    }
   },
   "outputs": [
    {
     "data": {
      "text/html": [
       "<div>\n",
       "<style scoped>\n",
       "    .dataframe tbody tr th:only-of-type {\n",
       "        vertical-align: middle;\n",
       "    }\n",
       "\n",
       "    .dataframe tbody tr th {\n",
       "        vertical-align: top;\n",
       "    }\n",
       "\n",
       "    .dataframe thead th {\n",
       "        text-align: right;\n",
       "    }\n",
       "</style>\n",
       "<table border=\"1\" class=\"dataframe\">\n",
       "  <thead>\n",
       "    <tr style=\"text-align: right;\">\n",
       "      <th></th>\n",
       "      <th>format</th>\n",
       "      <th>year</th>\n",
       "      <th>number_of_records</th>\n",
       "      <th>value_actual</th>\n",
       "      <th>category</th>\n",
       "      <th>type</th>\n",
       "    </tr>\n",
       "  </thead>\n",
       "  <tbody>\n",
       "    <tr>\n",
       "      <th>0</th>\n",
       "      <td>8 - Track</td>\n",
       "      <td>1973</td>\n",
       "      <td>1</td>\n",
       "      <td>2815.681824</td>\n",
       "      <td>Cassettes &amp; Tapes</td>\n",
       "      <td>Physical</td>\n",
       "    </tr>\n",
       "    <tr>\n",
       "      <th>1</th>\n",
       "      <td>8 - Track</td>\n",
       "      <td>1974</td>\n",
       "      <td>1</td>\n",
       "      <td>2848.008609</td>\n",
       "      <td>Cassettes &amp; Tapes</td>\n",
       "      <td>Physical</td>\n",
       "    </tr>\n",
       "    <tr>\n",
       "      <th>2</th>\n",
       "      <td>8 - Track</td>\n",
       "      <td>1975</td>\n",
       "      <td>1</td>\n",
       "      <td>2770.409498</td>\n",
       "      <td>Cassettes &amp; Tapes</td>\n",
       "      <td>Physical</td>\n",
       "    </tr>\n",
       "    <tr>\n",
       "      <th>3</th>\n",
       "      <td>8 - Track</td>\n",
       "      <td>1976</td>\n",
       "      <td>1</td>\n",
       "      <td>3047.215772</td>\n",
       "      <td>Cassettes &amp; Tapes</td>\n",
       "      <td>Physical</td>\n",
       "    </tr>\n",
       "    <tr>\n",
       "      <th>4</th>\n",
       "      <td>8 - Track</td>\n",
       "      <td>1977</td>\n",
       "      <td>1</td>\n",
       "      <td>3421.416287</td>\n",
       "      <td>Cassettes &amp; Tapes</td>\n",
       "      <td>Physical</td>\n",
       "    </tr>\n",
       "  </tbody>\n",
       "</table>\n",
       "</div>"
      ],
      "text/plain": [
       "      format  year  number_of_records  value_actual           category  \\\n",
       "0  8 - Track  1973                  1   2815.681824  Cassettes & Tapes   \n",
       "1  8 - Track  1974                  1   2848.008609  Cassettes & Tapes   \n",
       "2  8 - Track  1975                  1   2770.409498  Cassettes & Tapes   \n",
       "3  8 - Track  1976                  1   3047.215772  Cassettes & Tapes   \n",
       "4  8 - Track  1977                  1   3421.416287  Cassettes & Tapes   \n",
       "\n",
       "       type  \n",
       "0  Physical  \n",
       "1  Physical  \n",
       "2  Physical  \n",
       "3  Physical  \n",
       "4  Physical  "
      ]
     },
     "execution_count": 23,
     "metadata": {},
     "output_type": "execute_result"
    }
   ],
   "source": [
    "# Sacando la media de ventas de 'CD & Single'\n",
    "group_cd = music_revenues.copy()\n",
    "group_cd.head()"
   ]
  },
  {
   "cell_type": "code",
   "execution_count": 24,
   "metadata": {
    "collapsed": true,
    "jupyter": {
     "outputs_hidden": true
    }
   },
   "outputs": [
    {
     "name": "stdout",
     "output_type": "stream",
     "text": [
      "<class 'pandas.core.frame.DataFrame'>\n",
      "Int64Index: 86 entries, 10 to 361\n",
      "Data columns (total 6 columns):\n",
      " #   Column             Non-Null Count  Dtype  \n",
      "---  ------             --------------  -----  \n",
      " 0   format             86 non-null     object \n",
      " 1   year               86 non-null     int64  \n",
      " 2   number_of_records  86 non-null     int64  \n",
      " 3   value_actual       86 non-null     float64\n",
      " 4   category           86 non-null     object \n",
      " 5   type               86 non-null     object \n",
      "dtypes: float64(1), int64(2), object(3)\n",
      "memory usage: 4.7+ KB\n"
     ]
    }
   ],
   "source": [
    "group_cd = group_cd[group_cd['category']=='CD & Singles']\n",
    "group_cd.info()"
   ]
  },
  {
   "cell_type": "code",
   "execution_count": 25,
   "metadata": {},
   "outputs": [
    {
     "data": {
      "text/plain": [
       "3582.2349492797557"
      ]
     },
     "execution_count": 25,
     "metadata": {},
     "output_type": "execute_result"
    }
   ],
   "source": [
    "group_cd['value_actual'].mean()"
   ]
  },
  {
   "cell_type": "code",
   "execution_count": 26,
   "metadata": {
    "collapsed": true,
    "jupyter": {
     "outputs_hidden": true
    }
   },
   "outputs": [
    {
     "data": {
      "text/html": [
       "<div>\n",
       "<style scoped>\n",
       "    .dataframe tbody tr th:only-of-type {\n",
       "        vertical-align: middle;\n",
       "    }\n",
       "\n",
       "    .dataframe tbody tr th {\n",
       "        vertical-align: top;\n",
       "    }\n",
       "\n",
       "    .dataframe thead th {\n",
       "        text-align: right;\n",
       "    }\n",
       "</style>\n",
       "<table border=\"1\" class=\"dataframe\">\n",
       "  <thead>\n",
       "    <tr style=\"text-align: right;\">\n",
       "      <th></th>\n",
       "      <th>format</th>\n",
       "      <th>year</th>\n",
       "      <th>number_of_records</th>\n",
       "      <th>value_actual</th>\n",
       "      <th>category</th>\n",
       "      <th>type</th>\n",
       "    </tr>\n",
       "  </thead>\n",
       "  <tbody>\n",
       "    <tr>\n",
       "      <th>0</th>\n",
       "      <td>8 - Track</td>\n",
       "      <td>1973</td>\n",
       "      <td>1</td>\n",
       "      <td>2815.681824</td>\n",
       "      <td>Cassettes &amp; Tapes</td>\n",
       "      <td>Physical</td>\n",
       "    </tr>\n",
       "    <tr>\n",
       "      <th>1</th>\n",
       "      <td>8 - Track</td>\n",
       "      <td>1974</td>\n",
       "      <td>1</td>\n",
       "      <td>2848.008609</td>\n",
       "      <td>Cassettes &amp; Tapes</td>\n",
       "      <td>Physical</td>\n",
       "    </tr>\n",
       "    <tr>\n",
       "      <th>2</th>\n",
       "      <td>8 - Track</td>\n",
       "      <td>1975</td>\n",
       "      <td>1</td>\n",
       "      <td>2770.409498</td>\n",
       "      <td>Cassettes &amp; Tapes</td>\n",
       "      <td>Physical</td>\n",
       "    </tr>\n",
       "    <tr>\n",
       "      <th>3</th>\n",
       "      <td>8 - Track</td>\n",
       "      <td>1976</td>\n",
       "      <td>1</td>\n",
       "      <td>3047.215772</td>\n",
       "      <td>Cassettes &amp; Tapes</td>\n",
       "      <td>Physical</td>\n",
       "    </tr>\n",
       "    <tr>\n",
       "      <th>4</th>\n",
       "      <td>8 - Track</td>\n",
       "      <td>1977</td>\n",
       "      <td>1</td>\n",
       "      <td>3421.416287</td>\n",
       "      <td>Cassettes &amp; Tapes</td>\n",
       "      <td>Physical</td>\n",
       "    </tr>\n",
       "  </tbody>\n",
       "</table>\n",
       "</div>"
      ],
      "text/plain": [
       "      format  year  number_of_records  value_actual           category  \\\n",
       "0  8 - Track  1973                  1   2815.681824  Cassettes & Tapes   \n",
       "1  8 - Track  1974                  1   2848.008609  Cassettes & Tapes   \n",
       "2  8 - Track  1975                  1   2770.409498  Cassettes & Tapes   \n",
       "3  8 - Track  1976                  1   3047.215772  Cassettes & Tapes   \n",
       "4  8 - Track  1977                  1   3421.416287  Cassettes & Tapes   \n",
       "\n",
       "       type  \n",
       "0  Physical  \n",
       "1  Physical  \n",
       "2  Physical  \n",
       "3  Physical  \n",
       "4  Physical  "
      ]
     },
     "execution_count": 26,
     "metadata": {},
     "output_type": "execute_result"
    }
   ],
   "source": [
    "# sacando la media de ventas de 'LP/EP'\n",
    "group_vinyl = music_revenues.copy()\n",
    "group_vinyl.head()"
   ]
  },
  {
   "cell_type": "code",
   "execution_count": 28,
   "metadata": {
    "collapsed": true,
    "jupyter": {
     "outputs_hidden": true
    }
   },
   "outputs": [
    {
     "name": "stdout",
     "output_type": "stream",
     "text": [
      "<class 'pandas.core.frame.DataFrame'>\n",
      "Int64Index: 94 entries, 212 to 435\n",
      "Data columns (total 6 columns):\n",
      " #   Column             Non-Null Count  Dtype  \n",
      "---  ------             --------------  -----  \n",
      " 0   format             94 non-null     object \n",
      " 1   year               94 non-null     int64  \n",
      " 2   number_of_records  94 non-null     int64  \n",
      " 3   value_actual       94 non-null     float64\n",
      " 4   category           94 non-null     object \n",
      " 5   type               94 non-null     object \n",
      "dtypes: float64(1), int64(2), object(3)\n",
      "memory usage: 5.1+ KB\n"
     ]
    }
   ],
   "source": [
    "group_vinyl = group_vinyl[group_vinyl['category']=='Vinyl']\n",
    "group_vinyl.info()"
   ]
  },
  {
   "cell_type": "code",
   "execution_count": 29,
   "metadata": {},
   "outputs": [
    {
     "data": {
      "text/plain": [
       "1158.1173396378404"
      ]
     },
     "execution_count": 29,
     "metadata": {},
     "output_type": "execute_result"
    }
   ],
   "source": [
    "group_vinyl['value_actual'].mean()"
   ]
  },
  {
   "cell_type": "code",
   "execution_count": 30,
   "metadata": {
    "collapsed": true,
    "jupyter": {
     "outputs_hidden": true
    }
   },
   "outputs": [
    {
     "data": {
      "text/html": [
       "<div>\n",
       "<style scoped>\n",
       "    .dataframe tbody tr th:only-of-type {\n",
       "        vertical-align: middle;\n",
       "    }\n",
       "\n",
       "    .dataframe tbody tr th {\n",
       "        vertical-align: top;\n",
       "    }\n",
       "\n",
       "    .dataframe thead th {\n",
       "        text-align: right;\n",
       "    }\n",
       "</style>\n",
       "<table border=\"1\" class=\"dataframe\">\n",
       "  <thead>\n",
       "    <tr style=\"text-align: right;\">\n",
       "      <th></th>\n",
       "      <th>format</th>\n",
       "      <th>year</th>\n",
       "      <th>number_of_records</th>\n",
       "      <th>value_actual</th>\n",
       "      <th>category</th>\n",
       "      <th>type</th>\n",
       "    </tr>\n",
       "  </thead>\n",
       "  <tbody>\n",
       "    <tr>\n",
       "      <th>0</th>\n",
       "      <td>8 - Track</td>\n",
       "      <td>1973</td>\n",
       "      <td>1</td>\n",
       "      <td>2815.681824</td>\n",
       "      <td>Cassettes &amp; Tapes</td>\n",
       "      <td>Physical</td>\n",
       "    </tr>\n",
       "    <tr>\n",
       "      <th>1</th>\n",
       "      <td>8 - Track</td>\n",
       "      <td>1974</td>\n",
       "      <td>1</td>\n",
       "      <td>2848.008609</td>\n",
       "      <td>Cassettes &amp; Tapes</td>\n",
       "      <td>Physical</td>\n",
       "    </tr>\n",
       "    <tr>\n",
       "      <th>2</th>\n",
       "      <td>8 - Track</td>\n",
       "      <td>1975</td>\n",
       "      <td>1</td>\n",
       "      <td>2770.409498</td>\n",
       "      <td>Cassettes &amp; Tapes</td>\n",
       "      <td>Physical</td>\n",
       "    </tr>\n",
       "    <tr>\n",
       "      <th>3</th>\n",
       "      <td>8 - Track</td>\n",
       "      <td>1976</td>\n",
       "      <td>1</td>\n",
       "      <td>3047.215772</td>\n",
       "      <td>Cassettes &amp; Tapes</td>\n",
       "      <td>Physical</td>\n",
       "    </tr>\n",
       "    <tr>\n",
       "      <th>4</th>\n",
       "      <td>8 - Track</td>\n",
       "      <td>1977</td>\n",
       "      <td>1</td>\n",
       "      <td>3421.416287</td>\n",
       "      <td>Cassettes &amp; Tapes</td>\n",
       "      <td>Physical</td>\n",
       "    </tr>\n",
       "  </tbody>\n",
       "</table>\n",
       "</div>"
      ],
      "text/plain": [
       "      format  year  number_of_records  value_actual           category  \\\n",
       "0  8 - Track  1973                  1   2815.681824  Cassettes & Tapes   \n",
       "1  8 - Track  1974                  1   2848.008609  Cassettes & Tapes   \n",
       "2  8 - Track  1975                  1   2770.409498  Cassettes & Tapes   \n",
       "3  8 - Track  1976                  1   3047.215772  Cassettes & Tapes   \n",
       "4  8 - Track  1977                  1   3421.416287  Cassettes & Tapes   \n",
       "\n",
       "       type  \n",
       "0  Physical  \n",
       "1  Physical  \n",
       "2  Physical  \n",
       "3  Physical  \n",
       "4  Physical  "
      ]
     },
     "execution_count": 30,
     "metadata": {},
     "output_type": "execute_result"
    }
   ],
   "source": [
    "# todos los demás formatos:\n",
    "group_other_ph = music_revenues.copy()\n",
    "group_other_ph.head()"
   ]
  },
  {
   "cell_type": "code",
   "execution_count": 39,
   "metadata": {
    "collapsed": true,
    "jupyter": {
     "outputs_hidden": true
    }
   },
   "outputs": [
    {
     "name": "stdout",
     "output_type": "stream",
     "text": [
      "<class 'pandas.core.frame.DataFrame'>\n",
      "Int64Index: 50 entries, 131 to 293\n",
      "Data columns (total 6 columns):\n",
      " #   Column             Non-Null Count  Dtype  \n",
      "---  ------             --------------  -----  \n",
      " 0   format             50 non-null     object \n",
      " 1   year               50 non-null     int64  \n",
      " 2   number_of_records  50 non-null     int64  \n",
      " 3   value_actual       50 non-null     float64\n",
      " 4   category           50 non-null     object \n",
      " 5   type               50 non-null     object \n",
      "dtypes: float64(1), int64(2), object(3)\n",
      "memory usage: 2.7+ KB\n"
     ]
    }
   ],
   "source": [
    "group_other_ph = group_other_ph[group_other_ph['category']=='DVDs']\n",
    "group_other_ph.info()"
   ]
  },
  {
   "cell_type": "code",
   "execution_count": 40,
   "metadata": {},
   "outputs": [
    {
     "data": {
      "text/plain": [
       "214.0803223818"
      ]
     },
     "execution_count": 40,
     "metadata": {},
     "output_type": "execute_result"
    }
   ],
   "source": [
    "group_other_ph['value_actual'].mean()"
   ]
  },
  {
   "cell_type": "code",
   "execution_count": null,
   "metadata": {},
   "outputs": [],
   "source": []
  }
 ],
 "metadata": {
  "kernelspec": {
   "display_name": "Python 3",
   "language": "python",
   "name": "python3"
  },
  "language_info": {
   "codemirror_mode": {
    "name": "ipython",
    "version": 3
   },
   "file_extension": ".py",
   "mimetype": "text/x-python",
   "name": "python",
   "nbconvert_exporter": "python",
   "pygments_lexer": "ipython3",
   "version": "3.8.3"
  }
 },
 "nbformat": 4,
 "nbformat_minor": 4
}
